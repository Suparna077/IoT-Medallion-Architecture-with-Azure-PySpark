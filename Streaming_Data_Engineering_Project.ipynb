{
 "cells": [
  {
   "cell_type": "markdown",
   "metadata": {
    "application/vnd.databricks.v1+cell": {
     "cellMetadata": {},
     "inputWidgets": {},
     "nuid": "0def383e-0905-4580-90e9-6d6952cff987",
     "showTitle": false,
     "tableResultSettingsMap": {},
     "title": ""
    }
   },
   "source": [
    "# End to End Industrial IoT (IIoT) on  Databricks\n",
    "## Streaming Data of Azure IOT Hub Data Engineering\n",
    "This notebook demonstrates the following architecture for IIoT Ingest, Processing and Analytics on Azure. The following architecture is implemented for the demo. \n",
    "<img src=\"https://sguptasa.blob.core.windows.net/random/iiot_blog/end_to_end_architecture.png\" width=800>\n",
    "\n",
    "The notebook is broken into sections following these steps:\n",
    "1. **Data Ingest** - stream real-time raw sensor data from Azure IoT Hubs into the Delta format in Azure Storage\n",
    "2. **Data Processing** - stream process sensor data from raw (Bronze) to silver (aggregated) to gold (enriched) Delta tables on Azure Storage"
   ]
  },
  {
   "cell_type": "code",
   "execution_count": 0,
   "metadata": {
    "application/vnd.databricks.v1+cell": {
     "cellMetadata": {
      "byteLimit": 2048000,
      "rowLimit": 10000
     },
     "inputWidgets": {},
     "nuid": "34a0af72-2e56-4aa0-a8c2-6809ee754a65",
     "showTitle": false,
     "tableResultSettingsMap": {},
     "title": ""
    }
   },
   "outputs": [],
   "source": [
    "# AzureML Workspace info (name, region, resource group and subscription ID) for model deployment\n",
    "dbutils.widgets.text(\"Storage Account\",\"<your ADLS Gen 2 account name>\",\"Storage Account\")\n",
    "dbutils.widgets.text(\"Event Hub Name\",\"<your IoT Hub's Event Hub Compatible Name>\",\"Event Hub Name\")"
   ]
  },
  {
   "cell_type": "markdown",
   "metadata": {
    "application/vnd.databricks.v1+cell": {
     "cellMetadata": {},
     "inputWidgets": {},
     "nuid": "283371b8-cb76-4bd2-8314-95160d7cdea5",
     "showTitle": false,
     "tableResultSettingsMap": {},
     "title": ""
    }
   },
   "source": [
    "## Step 1 - Environment Setup\n",
    "\n",
    "The pre-requisites are listed below:\n",
    "\n",
    "### Azure Services Required\n",
    "* Azure IoT Hub \n",
    "* [Azure IoT Simulator](https://azure-samples.github.io/raspberry-pi-web-simulator/) executing for streaming data \n",
    "* ADLS Gen 2 Storage account with a container called `iot`\n",
    "* Azure Synapse SQL Pool call `iot`\n",
    "\n",
    "### Azure Databricks Configuration Required\n",
    " * **Azure Event Hubs Connector for Databricks** - Maven coordinates `com.microsoft.azure:azure-eventhubs-spark_2.12:2.3.17`\n",
    "* The following Secrets defined in scope `iot`\n",
    " * `iothub-cs` - Connection string for your IoT Hub **(Important - use the [Event Hub Compatible](https://devblogs.microsoft.com/iotdev/understand-different-connection-strings-in-azure-iot-hub/) connection string)**\n",
    " * `adls_key` - Access Key to ADLS storage account **(Important - use the [Access Key](https://raw.githubusercontent.com/tomatoTomahto/azure_databricks_iot/master/bricks.com/blog/2020/03/27/data-exfiltration-protection-with-azure-databricks.html))**\n",
    " * `synapse_cs` - JDBC connect string to your Synapse SQL Pool **(Important - use the [SQL Authentication](https://docs.microsoft.com/en-us/azure/databricks/data/data-sources/azure/synapse-analytics#spark-driver-to-azure-synapse) with username/password connection string)**\n",
    "* The following notebook widgets populated:\n",
    " * `Storage Account` - Name of your storage account"
   ]
  },
  {
   "cell_type": "code",
   "execution_count": 0,
   "metadata": {
    "application/vnd.databricks.v1+cell": {
     "cellMetadata": {
      "byteLimit": 2048000,
      "rowLimit": 10000
     },
     "inputWidgets": {},
     "nuid": "5940075d-e4fc-4509-b053-61079f239cbb",
     "showTitle": false,
     "tableResultSettingsMap": {},
     "title": ""
    }
   },
   "outputs": [],
   "source": [
    "# Setup access to storage account for temp data when pushing to Synapse\n",
    "storage_account = dbutils.widgets.get(\"Storage Account\")\n",
    "spark.conf.set(f\"fs.azure.account.key.{storage_account}.dfs.core.windows.net\",\"VVJVYkrDcgJhspZ/iCp3U9C6YBgXCHY41gdZs2RUhI7n5FRfCJx64hYObzOkqslHNOUEj+enQMeW+AStabwgSw==\")\n",
    "\n",
    "# Setup storage locations for all data\n",
    "ROOT_PATH = f\"abfss://iot@{storage_account}.dfs.core.windows.net/\"\n",
    "BRONZE_PATH = ROOT_PATH + \"bronze/\"\n",
    "SILVER_PATH = ROOT_PATH + \"silver/\"\n",
    "GOLD_PATH = ROOT_PATH + \"gold/\"\n",
    "SYNAPSE_PATH = ROOT_PATH + \"synapse/\"\n",
    "CHECKPOINT_PATH = ROOT_PATH + \"checkpoints/\"\n",
    "\n",
    "# Other initializations\n",
    "IOT_CS =  dbutils.secrets.get('iot','iothub-cs') # IoT Hub connection string (Event Hub Compatible)\n",
    "ehConf = { \n",
    "  'eventhubs.connectionString':sc._jvm.org.apache.spark.eventhubs.EventHubsUtils.encrypt(IOT_CS),\n",
    "  'ehName':dbutils.widgets.get(\"Event Hub Name\")\n",
    "}\n",
    "\n",
    "# Enable auto compaction and optimized writes in Delta\n",
    "spark.conf.set(\"spark.databricks.delta.optimizeWrite.enabled\",\"true\")\n",
    "spark.conf.set(\"spark.databricks.delta.autoCompact.enabled\",\"true\")\n",
    "spark.conf.set(\"spark.databricks.delta.schema.autoMerge.enabled\",\"true\")\n",
    "\n",
    "# Pyspark and ML Imports\n",
    "import os, json, requests\n",
    "from pyspark.sql import functions as F\n",
    "from pyspark.sql.functions import pandas_udf, PandasUDFType"
   ]
  },
  {
   "cell_type": "code",
   "execution_count": 0,
   "metadata": {
    "application/vnd.databricks.v1+cell": {
     "cellMetadata": {
      "byteLimit": 2048000,
      "rowLimit": 10000
     },
     "inputWidgets": {},
     "nuid": "c9abf985-15e6-499c-849e-9eb7034fa82d",
     "showTitle": false,
     "tableResultSettingsMap": {},
     "title": ""
    }
   },
   "outputs": [],
   "source": [
    "# Make sure root path is empty\n",
    "dbutils.fs.rm(ROOT_PATH, True)"
   ]
  },
  {
   "cell_type": "code",
   "execution_count": 0,
   "metadata": {
    "application/vnd.databricks.v1+cell": {
     "cellMetadata": {
      "byteLimit": 2048000,
      "implicitDf": true,
      "rowLimit": 10000
     },
     "inputWidgets": {},
     "nuid": "634a4127-5d11-4d08-8b83-12d2f5953d2f",
     "showTitle": false,
     "tableResultSettingsMap": {},
     "title": ""
    }
   },
   "outputs": [],
   "source": [
    "%sql\n",
    "-- Clean up tables & views\n",
    "DROP TABLE IF EXISTS turbine_raw;\n",
    "DROP TABLE IF EXISTS weather_raw;\n",
    "DROP TABLE IF EXISTS turbine_agg;\n",
    "DROP TABLE IF EXISTS weather_agg;\n",
    "DROP TABLE IF EXISTS turbine_enriched;\n",
    "DROP TABLE IF EXISTS turbine_power;\n",
    "DROP TABLE IF EXISTS turbine_maintenance;\n",
    "DROP VIEW IF EXISTS turbine_combined;\n",
    "DROP VIEW IF EXISTS feature_view;\n",
    "DROP TABLE IF EXISTS turbine_life_predictions;\n",
    "DROP TABLE IF EXISTS turbine_power_predictions;"
   ]
  },
  {
   "cell_type": "markdown",
   "metadata": {
    "application/vnd.databricks.v1+cell": {
     "cellMetadata": {},
     "inputWidgets": {},
     "nuid": "7c68462d-c89f-4a03-b93e-96cb1d49ec44",
     "showTitle": false,
     "tableResultSettingsMap": {},
     "title": ""
    }
   },
   "source": [
    "## Step 2 - Data Ingest from IoT Hubs\n",
    "Azure Databricks provides a native connector to IoT and Event Hubs. Below, we will use PySpark Structured Streaming to read from an IoT Hub stream of data and write the data in it's raw format directly into Delta. \n",
    "\n",
    "Make sure that your IoT Simulator is sending payloads to IoT Hub as shown below.\n",
    "\n",
    "<img src=\"https://sguptasa.blob.core.windows.net/random/iiot_blog/iot_simulator.gif\" width=800>\n",
    "\n",
    "We have two separate types of data payloads in our IoT Hub:\n",
    "1. **Turbine Sensor readings** - this payload contains `date`,`timestamp`,`deviceid`,`rpm` and `angle` fields\n",
    "2. **Weather Sensor readings** - this payload contains `date`,`timestamp`,`temperature`,`humidity`,`windspeed`, and `winddirection` fields\n",
    "\n",
    "We split out the two payloads into separate streams and write them both into Delta locations on Azure Storage. We are able to query these two Bronze tables *immediately* as the data streams in."
   ]
  },
  {
   "cell_type": "code",
   "execution_count": 0,
   "metadata": {
    "application/vnd.databricks.v1+cell": {
     "cellMetadata": {
      "byteLimit": 2048000,
      "rowLimit": 10000
     },
     "inputWidgets": {},
     "nuid": "ffcee369-a636-42cb-bd6f-a76e82046487",
     "showTitle": false,
     "tableResultSettingsMap": {},
     "title": ""
    }
   },
   "outputs": [],
   "source": [
    "from datetime import datetime ,date ,time\n",
    "# Schema of incoming data from IoT hub\n",
    "schema = \"timestamp timestamp, deviceId string, temperature double, humidity double, windspeed double, winddirection string, rpm double, angle double\"\n",
    "\n",
    "# Read directly from IoT Hub using the EventHubs library for Databricks\n",
    "iot_stream = (\n",
    "  spark.readStream.format(\"eventhubs\")                                               # Read from IoT Hubs directly\n",
    "    .options(**ehConf)                                                               # Use the Event-Hub-enabled connect string\n",
    "    .load()                                                                          # Load the data\n",
    "    .withColumn('reading', F.from_json(F.col('body').cast('string'), schema))        # Extract the \"body\" payload from the messages\n",
    "    .withColumn('date', F.lit(date.today()))\n",
    "    .select('reading.*', 'date')               # Create a \"date\" field for partitioning\n",
    ")\n"
   ]
  },
  {
   "cell_type": "code",
   "execution_count": 0,
   "metadata": {
    "application/vnd.databricks.v1+cell": {
     "cellMetadata": {
      "byteLimit": 2048000,
      "rowLimit": 10000
     },
     "inputWidgets": {},
     "nuid": "a4c6fc6d-6022-4d3b-afe5-43a64e806569",
     "showTitle": false,
     "tableResultSettingsMap": {},
     "title": ""
    }
   },
   "outputs": [],
   "source": [
    "\n",
    "\n",
    "# Split our IoT Hub stream into separate streams and write them both into their own Delta locations\n",
    "write_turbine_to_delta = (\n",
    "  iot_stream.filter(iot_stream.temperature.isNull())                                           # Filter out turbine telemetry from other data streams\n",
    "    .select(\"date\",\"timestamp\",\"deviceId\",\"rpm\",\"angle\")                             # Extract the fields of interest\n",
    "    .writeStream.format('delta')   \n",
    "    .option(\"overwriteSchema\",\"true\")                                                # Write our stream to the Delta format\n",
    "    .partitionBy(\"date\")                                                             # Partition our data by Date for       \n",
    "    .option(\"checkpointLocation\", CHECKPOINT_PATH + \"turbine_raw\")                   # Checkpoint so we can restart streams gracefully\n",
    "    .start(BRONZE_PATH + \"turbine_raw\")                                              # Stream the data into an ADLS Path\n",
    ")\n",
    "\n",
    "write_weather_to_delta = (\n",
    "  iot_stream.filter(iot_stream.temperature.isNotNull())                              # Filter out weather telemetry only\n",
    "    .select('date','deviceid','timestamp','temperature','humidity','windspeed','winddirection') \n",
    "    .writeStream.format('delta')  \n",
    "    .option(\"overwriteSchema\",\"true\")                                                    # Write our stream to the Delta format\n",
    "    .partitionBy('date')                                                             # Partition our data by Date for performance\n",
    "    .option(\"checkpointLocation\", CHECKPOINT_PATH + \"weather_raw\")                  # Checkpoint so we can restart ...  streams gracefully\n",
    "    .start(BRONZE_PATH + \"weather_raw\")                                              # Stream the data into an ADLS Path\n",
    ")\n",
    "\n",
    "# Create the external tables once data starts to stream in\n",
    "while True:\n",
    "  try:\n",
    "    spark.sql(f'CREATE TABLE IF NOT EXISTS turbine_raw USING DELTA LOCATION \"{BRONZE_PATH + \"turbine_raw\"}\"')\n",
    "    spark.sql(f'CREATE TABLE IF NOT EXISTS weather_raw USING DELTA LOCATION \"{BRONZE_PATH + \"weather_raw\"}\"')\n",
    "    break\n",
    "  except:\n",
    "    pass"
   ]
  },
  {
   "cell_type": "code",
   "execution_count": 0,
   "metadata": {
    "application/vnd.databricks.v1+cell": {
     "cellMetadata": {
      "byteLimit": 2048000,
      "implicitDf": true,
      "rowLimit": 10000
     },
     "inputWidgets": {},
     "nuid": "dc07dbc7-87f8-48ea-aa7e-50c7e6790c38",
     "showTitle": false,
     "tableResultSettingsMap": {},
     "title": ""
    }
   },
   "outputs": [
    {
     "output_type": "display_data",
     "data": {
      "text/html": [
       "<style scoped>\n",
       "  .table-result-container {\n",
       "    max-height: 300px;\n",
       "    overflow: auto;\n",
       "  }\n",
       "  table, th, td {\n",
       "    border: 1px solid black;\n",
       "    border-collapse: collapse;\n",
       "  }\n",
       "  th, td {\n",
       "    padding: 5px;\n",
       "  }\n",
       "  th {\n",
       "    text-align: left;\n",
       "  }\n",
       "</style><div class='table-result-container'><table class='table-result'><thead style='background-color: white'><tr><th>date</th><th>deviceid</th><th>timestamp</th><th>temperature</th><th>humidity</th><th>windspeed</th><th>winddirection</th></tr></thead><tbody><tr><td>2025-01-18</td><td>Raspberry Pi Web Client</td><td>null</td><td>31.29912712220375</td><td>68.8462013523012</td><td>null</td><td>null</td></tr><tr><td>2025-01-18</td><td>Raspberry Pi Web Client</td><td>null</td><td>25.464848316462145</td><td>75.4432378643359</td><td>null</td><td>null</td></tr><tr><td>2025-01-18</td><td>Raspberry Pi Web Client</td><td>null</td><td>27.002855981909526</td><td>78.2166052613305</td><td>null</td><td>null</td></tr><tr><td>2025-01-18</td><td>Raspberry Pi Web Client</td><td>null</td><td>21.610874748176258</td><td>60.46452194218201</td><td>null</td><td>null</td></tr><tr><td>2025-01-18</td><td>Raspberry Pi Web Client</td><td>null</td><td>22.81035454256527</td><td>70.9589832914773</td><td>null</td><td>null</td></tr><tr><td>2025-01-18</td><td>Raspberry Pi Web Client</td><td>null</td><td>29.010935312125103</td><td>78.2459049263941</td><td>null</td><td>null</td></tr><tr><td>2025-01-18</td><td>Raspberry Pi Web Client</td><td>null</td><td>31.162002192397686</td><td>66.43710055403524</td><td>null</td><td>null</td></tr><tr><td>2025-01-18</td><td>Raspberry Pi Web Client</td><td>null</td><td>29.417499549065106</td><td>64.25776051898089</td><td>null</td><td>null</td></tr><tr><td>2025-01-18</td><td>Raspberry Pi Web Client</td><td>null</td><td>24.902608642647476</td><td>76.03364508866856</td><td>null</td><td>null</td></tr><tr><td>2025-01-18</td><td>Raspberry Pi Web Client</td><td>null</td><td>27.99922753845483</td><td>66.75127220009547</td><td>null</td><td>null</td></tr><tr><td>2025-01-18</td><td>Raspberry Pi Web Client</td><td>null</td><td>24.441723763598436</td><td>66.42786727671812</td><td>null</td><td>null</td></tr><tr><td>2025-01-18</td><td>Raspberry Pi Web Client</td><td>null</td><td>29.209880396236304</td><td>66.03473686211457</td><td>null</td><td>null</td></tr><tr><td>2025-01-18</td><td>Raspberry Pi Web Client</td><td>null</td><td>23.127959722452744</td><td>73.84532608364039</td><td>null</td><td>null</td></tr><tr><td>2025-01-18</td><td>Raspberry Pi Web Client</td><td>null</td><td>22.28282214722303</td><td>60.780598826692895</td><td>null</td><td>null</td></tr><tr><td>2025-01-18</td><td>Raspberry Pi Web Client</td><td>null</td><td>28.531634902731245</td><td>68.96578887682175</td><td>null</td><td>null</td></tr><tr><td>2025-01-18</td><td>Raspberry Pi Web Client</td><td>null</td><td>28.358956278717457</td><td>66.41742905095528</td><td>null</td><td>null</td></tr><tr><td>2025-01-18</td><td>Raspberry Pi Web Client</td><td>null</td><td>29.330841577117653</td><td>66.37507444089023</td><td>null</td><td>null</td></tr><tr><td>2025-01-18</td><td>Raspberry Pi Web Client</td><td>null</td><td>31.683032395223975</td><td>74.79266279752872</td><td>null</td><td>null</td></tr><tr><td>2025-01-18</td><td>Raspberry Pi Web Client</td><td>null</td><td>26.26286758819907</td><td>60.38817043336893</td><td>null</td><td>null</td></tr><tr><td>2025-01-18</td><td>Raspberry Pi Web Client</td><td>null</td><td>20.44645201092459</td><td>64.81491008987597</td><td>null</td><td>null</td></tr><tr><td>2025-01-18</td><td>Raspberry Pi Web Client</td><td>null</td><td>31.983366590547938</td><td>77.48273734966683</td><td>null</td><td>null</td></tr><tr><td>2025-01-18</td><td>Raspberry Pi Web Client</td><td>null</td><td>22.220221260198137</td><td>69.31392563621644</td><td>null</td><td>null</td></tr><tr><td>2025-01-18</td><td>Raspberry Pi Web Client</td><td>null</td><td>29.498223841954474</td><td>69.71413312569263</td><td>null</td><td>null</td></tr><tr><td>2025-01-18</td><td>Raspberry Pi Web Client</td><td>null</td><td>25.711101970898724</td><td>69.35396960119327</td><td>null</td><td>null</td></tr><tr><td>2025-01-18</td><td>Raspberry Pi Web Client</td><td>null</td><td>26.180492378306578</td><td>63.04392337847086</td><td>null</td><td>null</td></tr><tr><td>2025-01-18</td><td>Raspberry Pi Web Client</td><td>null</td><td>26.240214247180326</td><td>76.40043045301036</td><td>null</td><td>null</td></tr><tr><td>2025-01-18</td><td>Raspberry Pi Web Client</td><td>null</td><td>31.827367002102278</td><td>77.78167243925951</td><td>null</td><td>null</td></tr><tr><td>2025-01-18</td><td>Raspberry Pi Web Client</td><td>null</td><td>24.559036218492665</td><td>71.68942027577712</td><td>null</td><td>null</td></tr><tr><td>2025-01-18</td><td>Raspberry Pi Web Client</td><td>null</td><td>22.14219635540408</td><td>70.06638734660197</td><td>null</td><td>null</td></tr><tr><td>2025-01-18</td><td>Raspberry Pi Web Client</td><td>null</td><td>31.26684288531049</td><td>79.27098857039209</td><td>null</td><td>null</td></tr><tr><td>2025-01-18</td><td>Raspberry Pi Web Client</td><td>null</td><td>31.935034293997084</td><td>69.90837132989756</td><td>null</td><td>null</td></tr><tr><td>2025-01-18</td><td>Raspberry Pi Web Client</td><td>null</td><td>23.026176194142238</td><td>71.52186291064184</td><td>null</td><td>null</td></tr><tr><td>2025-01-18</td><td>Raspberry Pi Web Client</td><td>null</td><td>20.54560949489018</td><td>72.91204594439353</td><td>null</td><td>null</td></tr><tr><td>2025-01-18</td><td>Raspberry Pi Web Client</td><td>null</td><td>31.68610821563597</td><td>70.04125975909159</td><td>null</td><td>null</td></tr><tr><td>2025-01-18</td><td>Raspberry Pi Web Client</td><td>null</td><td>28.047134836329583</td><td>73.85868736746733</td><td>null</td><td>null</td></tr><tr><td>2025-01-18</td><td>Raspberry Pi Web Client</td><td>null</td><td>24.92684876814181</td><td>73.4848474666731</td><td>null</td><td>null</td></tr><tr><td>2025-01-18</td><td>Raspberry Pi Web Client</td><td>null</td><td>30.710317440546444</td><td>60.43463264602609</td><td>null</td><td>null</td></tr><tr><td>2025-01-18</td><td>Raspberry Pi Web Client</td><td>null</td><td>26.898792761517015</td><td>69.64563089644817</td><td>null</td><td>null</td></tr><tr><td>2025-01-18</td><td>Raspberry Pi Web Client</td><td>null</td><td>30.762861176844034</td><td>67.16081476973959</td><td>null</td><td>null</td></tr><tr><td>2025-01-18</td><td>Raspberry Pi Web Client</td><td>null</td><td>30.20767477973054</td><td>79.16178274702371</td><td>null</td><td>null</td></tr><tr><td>2025-01-18</td><td>Raspberry Pi Web Client</td><td>null</td><td>26.84825037573254</td><td>64.86070684074842</td><td>null</td><td>null</td></tr><tr><td>2025-01-18</td><td>Raspberry Pi Web Client</td><td>null</td><td>25.649499119692674</td><td>74.84874636027364</td><td>null</td><td>null</td></tr><tr><td>2025-01-18</td><td>Raspberry Pi Web Client</td><td>null</td><td>28.51103197991859</td><td>65.2619014036458</td><td>null</td><td>null</td></tr><tr><td>2025-01-18</td><td>Raspberry Pi Web Client</td><td>null</td><td>20.789264802038435</td><td>64.39609629196343</td><td>null</td><td>null</td></tr><tr><td>2025-01-18</td><td>Raspberry Pi Web Client</td><td>null</td><td>20.439659927576436</td><td>62.250961552270084</td><td>null</td><td>null</td></tr><tr><td>2025-01-18</td><td>Raspberry Pi Web Client</td><td>null</td><td>28.207600267649212</td><td>77.37586664916084</td><td>null</td><td>null</td></tr><tr><td>2025-01-18</td><td>Raspberry Pi Web Client</td><td>null</td><td>30.210565455784955</td><td>68.16857129470588</td><td>null</td><td>null</td></tr><tr><td>2025-01-18</td><td>Raspberry Pi Web Client</td><td>null</td><td>22.862345064125673</td><td>65.57179471896198</td><td>null</td><td>null</td></tr><tr><td>2025-01-18</td><td>Raspberry Pi Web Client</td><td>null</td><td>31.343430220318897</td><td>60.317216426371225</td><td>null</td><td>null</td></tr><tr><td>2025-01-18</td><td>Raspberry Pi Web Client</td><td>null</td><td>22.812475490002967</td><td>68.46152474646034</td><td>null</td><td>null</td></tr><tr><td>2025-01-18</td><td>Raspberry Pi Web Client</td><td>null</td><td>30.422883945608973</td><td>68.42456578390943</td><td>null</td><td>null</td></tr><tr><td>2025-01-18</td><td>Raspberry Pi Web Client</td><td>null</td><td>28.983802694623883</td><td>63.818307148981226</td><td>null</td><td>null</td></tr><tr><td>2025-01-18</td><td>Raspberry Pi Web Client</td><td>null</td><td>24.860283094314795</td><td>63.1547623463277</td><td>null</td><td>null</td></tr><tr><td>2025-01-18</td><td>Raspberry Pi Web Client</td><td>null</td><td>24.392689837376317</td><td>75.57476562778436</td><td>null</td><td>null</td></tr><tr><td>2025-01-18</td><td>Raspberry Pi Web Client</td><td>null</td><td>20.37227374127184</td><td>77.66583936038887</td><td>null</td><td>null</td></tr><tr><td>2025-01-18</td><td>Raspberry Pi Web Client</td><td>null</td><td>30.7076341526461</td><td>76.12757659078173</td><td>null</td><td>null</td></tr><tr><td>2025-01-18</td><td>Raspberry Pi Web Client</td><td>null</td><td>31.05890792302953</td><td>63.69466325199473</td><td>null</td><td>null</td></tr><tr><td>2025-01-18</td><td>Raspberry Pi Web Client</td><td>null</td><td>29.820930439507507</td><td>68.90320932644626</td><td>null</td><td>null</td></tr><tr><td>2025-01-18</td><td>Raspberry Pi Web Client</td><td>null</td><td>24.39847123001412</td><td>79.851135472324</td><td>null</td><td>null</td></tr><tr><td>2025-01-18</td><td>Raspberry Pi Web Client</td><td>null</td><td>29.71660616770631</td><td>67.04708010674938</td><td>null</td><td>null</td></tr><tr><td>2025-01-18</td><td>Raspberry Pi Web Client</td><td>null</td><td>31.534664800864828</td><td>72.65802139621331</td><td>null</td><td>null</td></tr><tr><td>2025-01-18</td><td>Raspberry Pi Web Client</td><td>null</td><td>23.27196716074399</td><td>72.35587581145059</td><td>null</td><td>null</td></tr><tr><td>2025-01-18</td><td>Raspberry Pi Web Client</td><td>null</td><td>21.102272770596585</td><td>62.618728247366576</td><td>null</td><td>null</td></tr><tr><td>2025-01-18</td><td>Raspberry Pi Web Client</td><td>null</td><td>23.766066836189236</td><td>70.46907469459288</td><td>null</td><td>null</td></tr><tr><td>2025-01-18</td><td>Raspberry Pi Web Client</td><td>null</td><td>20.78835295684076</td><td>61.5049320247973</td><td>null</td><td>null</td></tr><tr><td>2025-01-18</td><td>Raspberry Pi Web Client</td><td>null</td><td>30.250251593536323</td><td>64.29087177324402</td><td>null</td><td>null</td></tr><tr><td>2025-01-18</td><td>Raspberry Pi Web Client</td><td>null</td><td>30.306915265362903</td><td>61.690058405637075</td><td>null</td><td>null</td></tr><tr><td>2025-01-18</td><td>Raspberry Pi Web Client</td><td>null</td><td>30.10957463715547</td><td>78.91253713977633</td><td>null</td><td>null</td></tr><tr><td>2025-01-18</td><td>Raspberry Pi Web Client</td><td>null</td><td>22.801835649170986</td><td>60.12158847931617</td><td>null</td><td>null</td></tr><tr><td>2025-01-18</td><td>Raspberry Pi Web Client</td><td>null</td><td>25.681854637143122</td><td>67.59690796092212</td><td>null</td><td>null</td></tr><tr><td>2025-01-18</td><td>Raspberry Pi Web Client</td><td>null</td><td>30.808813477452322</td><td>60.309496285879035</td><td>null</td><td>null</td></tr><tr><td>2025-01-18</td><td>Raspberry Pi Web Client</td><td>null</td><td>28.07765015136895</td><td>76.48449042607083</td><td>null</td><td>null</td></tr><tr><td>2025-01-18</td><td>Raspberry Pi Web Client</td><td>null</td><td>30.563654031748115</td><td>61.993655396710224</td><td>null</td><td>null</td></tr><tr><td>2025-01-18</td><td>Raspberry Pi Web Client</td><td>null</td><td>23.732275239647993</td><td>71.17435909895492</td><td>null</td><td>null</td></tr><tr><td>2025-01-18</td><td>Raspberry Pi Web Client</td><td>null</td><td>24.61563370759413</td><td>62.74895547085296</td><td>null</td><td>null</td></tr><tr><td>2025-01-18</td><td>Raspberry Pi Web Client</td><td>null</td><td>22.238214781443038</td><td>76.05377054475777</td><td>null</td><td>null</td></tr><tr><td>2025-01-18</td><td>Raspberry Pi Web Client</td><td>null</td><td>24.5328688670663</td><td>79.34960419491321</td><td>null</td><td>null</td></tr><tr><td>2025-01-18</td><td>Raspberry Pi Web Client</td><td>null</td><td>27.211619360199585</td><td>64.50496580714714</td><td>null</td><td>null</td></tr><tr><td>2025-01-18</td><td>Raspberry Pi Web Client</td><td>null</td><td>30.39038424918817</td><td>64.52774533133248</td><td>null</td><td>null</td></tr><tr><td>2025-01-18</td><td>Raspberry Pi Web Client</td><td>null</td><td>29.26164032665526</td><td>61.92005389502514</td><td>null</td><td>null</td></tr><tr><td>2025-01-18</td><td>Raspberry Pi Web Client</td><td>null</td><td>30.92664761004757</td><td>79.4119135592056</td><td>null</td><td>null</td></tr><tr><td>2025-01-18</td><td>Raspberry Pi Web Client</td><td>null</td><td>21.25050009225718</td><td>62.44612227557239</td><td>null</td><td>null</td></tr><tr><td>2025-01-18</td><td>Raspberry Pi Web Client</td><td>null</td><td>20.009885050822533</td><td>70.64405346942492</td><td>null</td><td>null</td></tr><tr><td>2025-01-18</td><td>Raspberry Pi Web Client</td><td>null</td><td>24.842046702640104</td><td>75.02214358936575</td><td>null</td><td>null</td></tr><tr><td>2025-01-18</td><td>Raspberry Pi Web Client</td><td>null</td><td>31.77617833366846</td><td>63.72557103142015</td><td>null</td><td>null</td></tr><tr><td>2025-01-18</td><td>Raspberry Pi Web Client</td><td>null</td><td>24.397261344692176</td><td>76.8536031380022</td><td>null</td><td>null</td></tr><tr><td>2025-01-18</td><td>Raspberry Pi Web Client</td><td>null</td><td>27.772238980184934</td><td>68.3153710784568</td><td>null</td><td>null</td></tr><tr><td>2025-01-18</td><td>Raspberry Pi Web Client</td><td>null</td><td>21.872558748691855</td><td>72.86096990103343</td><td>null</td><td>null</td></tr><tr><td>2025-01-18</td><td>Raspberry Pi Web Client</td><td>null</td><td>21.301773850173674</td><td>79.57148967911209</td><td>null</td><td>null</td></tr><tr><td>2025-01-18</td><td>Raspberry Pi Web Client</td><td>null</td><td>25.987643438847996</td><td>60.27280772810225</td><td>null</td><td>null</td></tr><tr><td>2025-01-18</td><td>Raspberry Pi Web Client</td><td>null</td><td>28.401176093050854</td><td>63.33064696264599</td><td>null</td><td>null</td></tr><tr><td>2025-01-18</td><td>Raspberry Pi Web Client</td><td>null</td><td>24.819424123393908</td><td>67.97656038552553</td><td>null</td><td>null</td></tr><tr><td>2025-01-18</td><td>Raspberry Pi Web Client</td><td>null</td><td>25.147714082226692</td><td>60.69186352899055</td><td>null</td><td>null</td></tr><tr><td>2025-01-18</td><td>Raspberry Pi Web Client</td><td>null</td><td>30.78945679014658</td><td>63.279594997158284</td><td>null</td><td>null</td></tr><tr><td>2025-01-18</td><td>Raspberry Pi Web Client</td><td>null</td><td>21.063418736281815</td><td>66.82221871982094</td><td>null</td><td>null</td></tr><tr><td>2025-01-18</td><td>Raspberry Pi Web Client</td><td>null</td><td>25.939439286936487</td><td>71.42861659776713</td><td>null</td><td>null</td></tr><tr><td>2025-01-18</td><td>Raspberry Pi Web Client</td><td>null</td><td>22.71283717042265</td><td>76.28500673766845</td><td>null</td><td>null</td></tr><tr><td>2025-01-18</td><td>Raspberry Pi Web Client</td><td>null</td><td>21.508651152029415</td><td>79.512540681962</td><td>null</td><td>null</td></tr><tr><td>2025-01-18</td><td>Raspberry Pi Web Client</td><td>null</td><td>31.856390555094006</td><td>62.681361169933005</td><td>null</td><td>null</td></tr><tr><td>2025-01-18</td><td>Raspberry Pi Web Client</td><td>null</td><td>25.1453221240835</td><td>72.69574013295235</td><td>null</td><td>null</td></tr><tr><td>2025-01-18</td><td>Raspberry Pi Web Client</td><td>null</td><td>25.70538550417502</td><td>71.80808484516932</td><td>null</td><td>null</td></tr><tr><td>2025-01-18</td><td>Raspberry Pi Web Client</td><td>null</td><td>30.669540515513035</td><td>70.65898528571337</td><td>null</td><td>null</td></tr><tr><td>2025-01-18</td><td>Raspberry Pi Web Client</td><td>null</td><td>26.593004330252977</td><td>61.476022079704165</td><td>null</td><td>null</td></tr><tr><td>2025-01-18</td><td>Raspberry Pi Web Client</td><td>null</td><td>21.44618868206036</td><td>66.70748784015225</td><td>null</td><td>null</td></tr><tr><td>2025-01-18</td><td>Raspberry Pi Web Client</td><td>null</td><td>27.274429852767597</td><td>70.25569170109273</td><td>null</td><td>null</td></tr><tr><td>2025-01-18</td><td>Raspberry Pi Web Client</td><td>null</td><td>20.392294986860946</td><td>61.247192907885974</td><td>null</td><td>null</td></tr><tr><td>2025-01-18</td><td>Raspberry Pi Web Client</td><td>null</td><td>26.612331132258593</td><td>66.05889378123103</td><td>null</td><td>null</td></tr><tr><td>2025-01-18</td><td>Raspberry Pi Web Client</td><td>null</td><td>21.44337073270829</td><td>76.8683621261162</td><td>null</td><td>null</td></tr><tr><td>2025-01-18</td><td>Raspberry Pi Web Client</td><td>null</td><td>26.703975770208373</td><td>74.93360478016724</td><td>null</td><td>null</td></tr><tr><td>2025-01-18</td><td>Raspberry Pi Web Client</td><td>null</td><td>31.316451809717137</td><td>75.85391368046211</td><td>null</td><td>null</td></tr><tr><td>2025-01-18</td><td>Raspberry Pi Web Client</td><td>null</td><td>22.286640433712062</td><td>74.05690904730982</td><td>null</td><td>null</td></tr><tr><td>2025-01-18</td><td>Raspberry Pi Web Client</td><td>null</td><td>22.125552318190152</td><td>73.28813517583365</td><td>null</td><td>null</td></tr><tr><td>2025-01-18</td><td>Raspberry Pi Web Client</td><td>null</td><td>26.689796599390668</td><td>66.23963624257368</td><td>null</td><td>null</td></tr><tr><td>2025-01-18</td><td>Raspberry Pi Web Client</td><td>null</td><td>23.93539934804792</td><td>65.27511482984801</td><td>null</td><td>null</td></tr><tr><td>2025-01-18</td><td>Raspberry Pi Web Client</td><td>null</td><td>21.627178526657243</td><td>63.63287529763289</td><td>null</td><td>null</td></tr><tr><td>2025-01-18</td><td>Raspberry Pi Web Client</td><td>null</td><td>28.254133388743885</td><td>70.49412215511248</td><td>null</td><td>null</td></tr><tr><td>2025-01-18</td><td>Raspberry Pi Web Client</td><td>null</td><td>31.354577800959504</td><td>67.52021737761584</td><td>null</td><td>null</td></tr><tr><td>2025-01-18</td><td>Raspberry Pi Web Client</td><td>null</td><td>21.34084762972301</td><td>68.26713655504503</td><td>null</td><td>null</td></tr><tr><td>2025-01-18</td><td>Raspberry Pi Web Client</td><td>null</td><td>20.193192369662174</td><td>79.06161273916695</td><td>null</td><td>null</td></tr><tr><td>2025-01-18</td><td>Raspberry Pi Web Client</td><td>null</td><td>27.61590341142577</td><td>69.18017354891057</td><td>null</td><td>null</td></tr><tr><td>2025-01-18</td><td>Raspberry Pi Web Client</td><td>null</td><td>21.41043764368281</td><td>78.23439595175873</td><td>null</td><td>null</td></tr><tr><td>2025-01-18</td><td>Raspberry Pi Web Client</td><td>null</td><td>25.996433706279472</td><td>62.91408351433197</td><td>null</td><td>null</td></tr><tr><td>2025-01-18</td><td>Raspberry Pi Web Client</td><td>null</td><td>28.97984272701402</td><td>67.4564491328977</td><td>null</td><td>null</td></tr><tr><td>2025-01-18</td><td>Raspberry Pi Web Client</td><td>null</td><td>31.387473797460473</td><td>66.34074725264077</td><td>null</td><td>null</td></tr><tr><td>2025-01-18</td><td>Raspberry Pi Web Client</td><td>null</td><td>22.45178028522419</td><td>75.75207515104766</td><td>null</td><td>null</td></tr><tr><td>2025-01-18</td><td>Raspberry Pi Web Client</td><td>null</td><td>27.76739586089138</td><td>76.39641368079401</td><td>null</td><td>null</td></tr><tr><td>2025-01-18</td><td>Raspberry Pi Web Client</td><td>null</td><td>30.792192477976307</td><td>67.67708520573419</td><td>null</td><td>null</td></tr><tr><td>2025-01-18</td><td>Raspberry Pi Web Client</td><td>null</td><td>23.589349299160318</td><td>68.88152382178941</td><td>null</td><td>null</td></tr><tr><td>2025-01-18</td><td>Raspberry Pi Web Client</td><td>null</td><td>22.20839985748249</td><td>62.6757102374211</td><td>null</td><td>null</td></tr><tr><td>2025-01-18</td><td>Raspberry Pi Web Client</td><td>null</td><td>24.36247546250968</td><td>76.1270417011909</td><td>null</td><td>null</td></tr><tr><td>2025-01-18</td><td>Raspberry Pi Web Client</td><td>null</td><td>22.96372506844986</td><td>79.21484417970112</td><td>null</td><td>null</td></tr><tr><td>2025-01-18</td><td>Raspberry Pi Web Client</td><td>null</td><td>21.835671382926154</td><td>65.19425386898232</td><td>null</td><td>null</td></tr><tr><td>2025-01-18</td><td>Raspberry Pi Web Client</td><td>null</td><td>26.44911917499944</td><td>78.1840363678618</td><td>null</td><td>null</td></tr><tr><td>2025-01-18</td><td>Raspberry Pi Web Client</td><td>null</td><td>22.046032543953036</td><td>63.87959883178108</td><td>null</td><td>null</td></tr><tr><td>2025-01-18</td><td>Raspberry Pi Web Client</td><td>null</td><td>27.932291319504813</td><td>70.28742845165935</td><td>null</td><td>null</td></tr><tr><td>2025-01-18</td><td>Raspberry Pi Web Client</td><td>null</td><td>21.515254250750804</td><td>73.21312505796827</td><td>null</td><td>null</td></tr><tr><td>2025-01-18</td><td>Raspberry Pi Web Client</td><td>null</td><td>31.152214148513725</td><td>77.18901583089557</td><td>null</td><td>null</td></tr><tr><td>2025-01-18</td><td>Raspberry Pi Web Client</td><td>null</td><td>29.09422863099551</td><td>69.19692814258627</td><td>null</td><td>null</td></tr><tr><td>2025-01-18</td><td>Raspberry Pi Web Client</td><td>null</td><td>21.739285040734632</td><td>78.21545543688325</td><td>null</td><td>null</td></tr><tr><td>2025-01-18</td><td>Raspberry Pi Web Client</td><td>null</td><td>30.557457396061732</td><td>79.2646330427892</td><td>null</td><td>null</td></tr><tr><td>2025-01-18</td><td>Raspberry Pi Web Client</td><td>null</td><td>22.731352031091436</td><td>78.96063433417946</td><td>null</td><td>null</td></tr><tr><td>2025-01-18</td><td>Raspberry Pi Web Client</td><td>null</td><td>26.47468058037912</td><td>65.68650600301903</td><td>null</td><td>null</td></tr><tr><td>2025-01-18</td><td>Raspberry Pi Web Client</td><td>null</td><td>21.84279974823268</td><td>61.35720787496232</td><td>null</td><td>null</td></tr><tr><td>2025-01-18</td><td>Raspberry Pi Web Client</td><td>null</td><td>28.51100428234114</td><td>69.12455635285863</td><td>null</td><td>null</td></tr><tr><td>2025-01-18</td><td>Raspberry Pi Web Client</td><td>null</td><td>21.34536904303709</td><td>69.30554423051566</td><td>null</td><td>null</td></tr><tr><td>2025-01-18</td><td>Raspberry Pi Web Client</td><td>null</td><td>22.37260570341048</td><td>60.452382374309174</td><td>null</td><td>null</td></tr><tr><td>2025-01-18</td><td>Raspberry Pi Web Client</td><td>null</td><td>25.984937722430978</td><td>69.09847040877791</td><td>null</td><td>null</td></tr><tr><td>2025-01-18</td><td>Raspberry Pi Web Client</td><td>null</td><td>23.632152952792808</td><td>60.78283538403132</td><td>null</td><td>null</td></tr><tr><td>2025-01-18</td><td>Raspberry Pi Web Client</td><td>null</td><td>21.28844048224308</td><td>78.08527410899116</td><td>null</td><td>null</td></tr><tr><td>2025-01-18</td><td>Raspberry Pi Web Client</td><td>null</td><td>28.088394267786793</td><td>78.60938413964732</td><td>null</td><td>null</td></tr><tr><td>2025-01-18</td><td>Raspberry Pi Web Client</td><td>null</td><td>27.8114818705574</td><td>73.19587436635109</td><td>null</td><td>null</td></tr><tr><td>2025-01-18</td><td>Raspberry Pi Web Client</td><td>null</td><td>23.159595401462962</td><td>73.23399368766103</td><td>null</td><td>null</td></tr><tr><td>2025-01-18</td><td>Raspberry Pi Web Client</td><td>null</td><td>25.65534063889642</td><td>66.70542322456299</td><td>null</td><td>null</td></tr><tr><td>2025-01-18</td><td>Raspberry Pi Web Client</td><td>null</td><td>30.10945569610104</td><td>68.35193277587787</td><td>null</td><td>null</td></tr><tr><td>2025-01-18</td><td>Raspberry Pi Web Client</td><td>null</td><td>24.473478610443486</td><td>62.999032670165704</td><td>null</td><td>null</td></tr><tr><td>2025-01-18</td><td>Raspberry Pi Web Client</td><td>null</td><td>22.477224674715714</td><td>77.97505213897932</td><td>null</td><td>null</td></tr><tr><td>2025-01-18</td><td>Raspberry Pi Web Client</td><td>null</td><td>23.86118508757651</td><td>61.95620534397094</td><td>null</td><td>null</td></tr><tr><td>2025-01-18</td><td>Raspberry Pi Web Client</td><td>null</td><td>30.71922946551824</td><td>65.0564074300201</td><td>null</td><td>null</td></tr><tr><td>2025-01-18</td><td>Raspberry Pi Web Client</td><td>null</td><td>26.557371079144204</td><td>69.75618514718917</td><td>null</td><td>null</td></tr><tr><td>2025-01-18</td><td>Raspberry Pi Web Client</td><td>null</td><td>31.382286309285035</td><td>77.52224990640183</td><td>null</td><td>null</td></tr><tr><td>2025-01-18</td><td>Raspberry Pi Web Client</td><td>null</td><td>28.010001690756003</td><td>77.14898167490276</td><td>null</td><td>null</td></tr><tr><td>2025-01-18</td><td>Raspberry Pi Web Client</td><td>null</td><td>22.18456786753203</td><td>79.16295931683865</td><td>null</td><td>null</td></tr><tr><td>2025-01-18</td><td>Raspberry Pi Web Client</td><td>null</td><td>22.871576940465623</td><td>78.9900773771902</td><td>null</td><td>null</td></tr><tr><td>2025-01-18</td><td>Raspberry Pi Web Client</td><td>null</td><td>30.229377169383074</td><td>60.80186865623707</td><td>null</td><td>null</td></tr><tr><td>2025-01-18</td><td>Raspberry Pi Web Client</td><td>null</td><td>30.01313103343153</td><td>75.09266175146892</td><td>null</td><td>null</td></tr><tr><td>2025-01-18</td><td>Raspberry Pi Web Client</td><td>null</td><td>28.51872815533046</td><td>62.205868415183645</td><td>null</td><td>null</td></tr><tr><td>2025-01-18</td><td>Raspberry Pi Web Client</td><td>null</td><td>25.77377167145591</td><td>75.27799412695035</td><td>null</td><td>null</td></tr><tr><td>2025-01-18</td><td>Raspberry Pi Web Client</td><td>null</td><td>22.552610709909743</td><td>65.5769913179378</td><td>null</td><td>null</td></tr><tr><td>2025-01-18</td><td>Raspberry Pi Web Client</td><td>null</td><td>27.18382844433302</td><td>65.37775534760883</td><td>null</td><td>null</td></tr><tr><td>2025-01-18</td><td>Raspberry Pi Web Client</td><td>null</td><td>31.676566959862473</td><td>70.17756503527319</td><td>null</td><td>null</td></tr><tr><td>2025-01-18</td><td>Raspberry Pi Web Client</td><td>null</td><td>27.70954839278671</td><td>70.48429718139042</td><td>null</td><td>null</td></tr><tr><td>2025-01-18</td><td>Raspberry Pi Web Client</td><td>null</td><td>23.86157660343534</td><td>73.77287034450526</td><td>null</td><td>null</td></tr><tr><td>2025-01-18</td><td>Raspberry Pi Web Client</td><td>null</td><td>25.303238427298155</td><td>75.00305455107281</td><td>null</td><td>null</td></tr><tr><td>2025-01-18</td><td>Raspberry Pi Web Client</td><td>null</td><td>26.472191173339272</td><td>69.94971084080181</td><td>null</td><td>null</td></tr><tr><td>2025-01-18</td><td>Raspberry Pi Web Client</td><td>null</td><td>28.93722482419878</td><td>67.97676305153404</td><td>null</td><td>null</td></tr><tr><td>2025-01-18</td><td>Raspberry Pi Web Client</td><td>null</td><td>24.367809376834185</td><td>65.07257737628973</td><td>null</td><td>null</td></tr><tr><td>2025-01-18</td><td>Raspberry Pi Web Client</td><td>null</td><td>24.275332416680758</td><td>68.84987302398414</td><td>null</td><td>null</td></tr><tr><td>2025-01-18</td><td>Raspberry Pi Web Client</td><td>null</td><td>24.55326995027165</td><td>76.78195658510208</td><td>null</td><td>null</td></tr><tr><td>2025-01-18</td><td>Raspberry Pi Web Client</td><td>null</td><td>27.95345609411543</td><td>73.39075257329054</td><td>null</td><td>null</td></tr><tr><td>2025-01-18</td><td>Raspberry Pi Web Client</td><td>null</td><td>23.58897464965986</td><td>65.95483534286076</td><td>null</td><td>null</td></tr><tr><td>2025-01-18</td><td>Raspberry Pi Web Client</td><td>null</td><td>24.62570709055349</td><td>67.15333394434157</td><td>null</td><td>null</td></tr><tr><td>2025-01-18</td><td>Raspberry Pi Web Client</td><td>null</td><td>20.89015112926484</td><td>78.36639416405717</td><td>null</td><td>null</td></tr><tr><td>2025-01-18</td><td>Raspberry Pi Web Client</td><td>null</td><td>24.347972023958626</td><td>64.73280767387524</td><td>null</td><td>null</td></tr><tr><td>2025-01-18</td><td>Raspberry Pi Web Client</td><td>null</td><td>23.39410376020049</td><td>61.111901529473215</td><td>null</td><td>null</td></tr><tr><td>2025-01-18</td><td>Raspberry Pi Web Client</td><td>null</td><td>31.97787687860299</td><td>67.86397645967872</td><td>null</td><td>null</td></tr><tr><td>2025-01-18</td><td>Raspberry Pi Web Client</td><td>null</td><td>22.735867856645097</td><td>72.92221305935496</td><td>null</td><td>null</td></tr><tr><td>2025-01-18</td><td>Raspberry Pi Web Client</td><td>null</td><td>30.141291508643775</td><td>75.98981856150249</td><td>null</td><td>null</td></tr><tr><td>2025-01-18</td><td>Raspberry Pi Web Client</td><td>null</td><td>29.990497992049438</td><td>71.83273993588706</td><td>null</td><td>null</td></tr><tr><td>2025-01-18</td><td>Raspberry Pi Web Client</td><td>null</td><td>24.12153151343138</td><td>66.50643771302524</td><td>null</td><td>null</td></tr></tbody></table></div>"
      ]
     },
     "metadata": {
      "application/vnd.databricks.v1+output": {
       "addedWidgets": {},
       "aggData": [],
       "aggError": "",
       "aggOverflow": false,
       "aggSchema": [],
       "aggSeriesLimitReached": false,
       "aggType": "",
       "arguments": {},
       "columnCustomDisplayInfos": {},
       "data": [
        [
         "2025-01-18",
         "Raspberry Pi Web Client",
         null,
         31.29912712220375,
         68.8462013523012,
         null,
         null
        ],
        [
         "2025-01-18",
         "Raspberry Pi Web Client",
         null,
         25.464848316462145,
         75.4432378643359,
         null,
         null
        ],
        [
         "2025-01-18",
         "Raspberry Pi Web Client",
         null,
         27.002855981909526,
         78.2166052613305,
         null,
         null
        ],
        [
         "2025-01-18",
         "Raspberry Pi Web Client",
         null,
         21.610874748176258,
         60.46452194218201,
         null,
         null
        ],
        [
         "2025-01-18",
         "Raspberry Pi Web Client",
         null,
         22.81035454256527,
         70.9589832914773,
         null,
         null
        ],
        [
         "2025-01-18",
         "Raspberry Pi Web Client",
         null,
         29.010935312125103,
         78.2459049263941,
         null,
         null
        ],
        [
         "2025-01-18",
         "Raspberry Pi Web Client",
         null,
         31.162002192397686,
         66.43710055403524,
         null,
         null
        ],
        [
         "2025-01-18",
         "Raspberry Pi Web Client",
         null,
         29.417499549065106,
         64.25776051898089,
         null,
         null
        ],
        [
         "2025-01-18",
         "Raspberry Pi Web Client",
         null,
         24.902608642647476,
         76.03364508866856,
         null,
         null
        ],
        [
         "2025-01-18",
         "Raspberry Pi Web Client",
         null,
         27.99922753845483,
         66.75127220009547,
         null,
         null
        ],
        [
         "2025-01-18",
         "Raspberry Pi Web Client",
         null,
         24.441723763598436,
         66.42786727671812,
         null,
         null
        ],
        [
         "2025-01-18",
         "Raspberry Pi Web Client",
         null,
         29.209880396236304,
         66.03473686211457,
         null,
         null
        ],
        [
         "2025-01-18",
         "Raspberry Pi Web Client",
         null,
         23.127959722452744,
         73.84532608364039,
         null,
         null
        ],
        [
         "2025-01-18",
         "Raspberry Pi Web Client",
         null,
         22.28282214722303,
         60.780598826692895,
         null,
         null
        ],
        [
         "2025-01-18",
         "Raspberry Pi Web Client",
         null,
         28.531634902731245,
         68.96578887682175,
         null,
         null
        ],
        [
         "2025-01-18",
         "Raspberry Pi Web Client",
         null,
         28.358956278717457,
         66.41742905095528,
         null,
         null
        ],
        [
         "2025-01-18",
         "Raspberry Pi Web Client",
         null,
         29.330841577117653,
         66.37507444089023,
         null,
         null
        ],
        [
         "2025-01-18",
         "Raspberry Pi Web Client",
         null,
         31.683032395223975,
         74.79266279752872,
         null,
         null
        ],
        [
         "2025-01-18",
         "Raspberry Pi Web Client",
         null,
         26.26286758819907,
         60.38817043336893,
         null,
         null
        ],
        [
         "2025-01-18",
         "Raspberry Pi Web Client",
         null,
         20.44645201092459,
         64.81491008987597,
         null,
         null
        ],
        [
         "2025-01-18",
         "Raspberry Pi Web Client",
         null,
         31.983366590547938,
         77.48273734966683,
         null,
         null
        ],
        [
         "2025-01-18",
         "Raspberry Pi Web Client",
         null,
         22.220221260198137,
         69.31392563621644,
         null,
         null
        ],
        [
         "2025-01-18",
         "Raspberry Pi Web Client",
         null,
         29.498223841954474,
         69.71413312569263,
         null,
         null
        ],
        [
         "2025-01-18",
         "Raspberry Pi Web Client",
         null,
         25.711101970898724,
         69.35396960119327,
         null,
         null
        ],
        [
         "2025-01-18",
         "Raspberry Pi Web Client",
         null,
         26.180492378306578,
         63.04392337847086,
         null,
         null
        ],
        [
         "2025-01-18",
         "Raspberry Pi Web Client",
         null,
         26.240214247180326,
         76.40043045301036,
         null,
         null
        ],
        [
         "2025-01-18",
         "Raspberry Pi Web Client",
         null,
         31.827367002102278,
         77.78167243925951,
         null,
         null
        ],
        [
         "2025-01-18",
         "Raspberry Pi Web Client",
         null,
         24.559036218492665,
         71.68942027577712,
         null,
         null
        ],
        [
         "2025-01-18",
         "Raspberry Pi Web Client",
         null,
         22.14219635540408,
         70.06638734660197,
         null,
         null
        ],
        [
         "2025-01-18",
         "Raspberry Pi Web Client",
         null,
         31.26684288531049,
         79.27098857039209,
         null,
         null
        ],
        [
         "2025-01-18",
         "Raspberry Pi Web Client",
         null,
         31.935034293997084,
         69.90837132989756,
         null,
         null
        ],
        [
         "2025-01-18",
         "Raspberry Pi Web Client",
         null,
         23.026176194142238,
         71.52186291064184,
         null,
         null
        ],
        [
         "2025-01-18",
         "Raspberry Pi Web Client",
         null,
         20.54560949489018,
         72.91204594439353,
         null,
         null
        ],
        [
         "2025-01-18",
         "Raspberry Pi Web Client",
         null,
         31.68610821563597,
         70.04125975909159,
         null,
         null
        ],
        [
         "2025-01-18",
         "Raspberry Pi Web Client",
         null,
         28.047134836329583,
         73.85868736746733,
         null,
         null
        ],
        [
         "2025-01-18",
         "Raspberry Pi Web Client",
         null,
         24.92684876814181,
         73.4848474666731,
         null,
         null
        ],
        [
         "2025-01-18",
         "Raspberry Pi Web Client",
         null,
         30.710317440546444,
         60.43463264602609,
         null,
         null
        ],
        [
         "2025-01-18",
         "Raspberry Pi Web Client",
         null,
         26.898792761517015,
         69.64563089644817,
         null,
         null
        ],
        [
         "2025-01-18",
         "Raspberry Pi Web Client",
         null,
         30.762861176844034,
         67.16081476973959,
         null,
         null
        ],
        [
         "2025-01-18",
         "Raspberry Pi Web Client",
         null,
         30.20767477973054,
         79.16178274702371,
         null,
         null
        ],
        [
         "2025-01-18",
         "Raspberry Pi Web Client",
         null,
         26.84825037573254,
         64.86070684074842,
         null,
         null
        ],
        [
         "2025-01-18",
         "Raspberry Pi Web Client",
         null,
         25.649499119692674,
         74.84874636027364,
         null,
         null
        ],
        [
         "2025-01-18",
         "Raspberry Pi Web Client",
         null,
         28.51103197991859,
         65.2619014036458,
         null,
         null
        ],
        [
         "2025-01-18",
         "Raspberry Pi Web Client",
         null,
         20.789264802038435,
         64.39609629196343,
         null,
         null
        ],
        [
         "2025-01-18",
         "Raspberry Pi Web Client",
         null,
         20.439659927576436,
         62.250961552270084,
         null,
         null
        ],
        [
         "2025-01-18",
         "Raspberry Pi Web Client",
         null,
         28.207600267649212,
         77.37586664916084,
         null,
         null
        ],
        [
         "2025-01-18",
         "Raspberry Pi Web Client",
         null,
         30.210565455784955,
         68.16857129470588,
         null,
         null
        ],
        [
         "2025-01-18",
         "Raspberry Pi Web Client",
         null,
         22.862345064125673,
         65.57179471896198,
         null,
         null
        ],
        [
         "2025-01-18",
         "Raspberry Pi Web Client",
         null,
         31.343430220318897,
         60.317216426371225,
         null,
         null
        ],
        [
         "2025-01-18",
         "Raspberry Pi Web Client",
         null,
         22.812475490002967,
         68.46152474646034,
         null,
         null
        ],
        [
         "2025-01-18",
         "Raspberry Pi Web Client",
         null,
         30.422883945608973,
         68.42456578390943,
         null,
         null
        ],
        [
         "2025-01-18",
         "Raspberry Pi Web Client",
         null,
         28.983802694623883,
         63.818307148981226,
         null,
         null
        ],
        [
         "2025-01-18",
         "Raspberry Pi Web Client",
         null,
         24.860283094314795,
         63.1547623463277,
         null,
         null
        ],
        [
         "2025-01-18",
         "Raspberry Pi Web Client",
         null,
         24.392689837376317,
         75.57476562778436,
         null,
         null
        ],
        [
         "2025-01-18",
         "Raspberry Pi Web Client",
         null,
         20.37227374127184,
         77.66583936038887,
         null,
         null
        ],
        [
         "2025-01-18",
         "Raspberry Pi Web Client",
         null,
         30.7076341526461,
         76.12757659078173,
         null,
         null
        ],
        [
         "2025-01-18",
         "Raspberry Pi Web Client",
         null,
         31.05890792302953,
         63.69466325199473,
         null,
         null
        ],
        [
         "2025-01-18",
         "Raspberry Pi Web Client",
         null,
         29.820930439507507,
         68.90320932644626,
         null,
         null
        ],
        [
         "2025-01-18",
         "Raspberry Pi Web Client",
         null,
         24.39847123001412,
         79.851135472324,
         null,
         null
        ],
        [
         "2025-01-18",
         "Raspberry Pi Web Client",
         null,
         29.71660616770631,
         67.04708010674938,
         null,
         null
        ],
        [
         "2025-01-18",
         "Raspberry Pi Web Client",
         null,
         31.534664800864828,
         72.65802139621331,
         null,
         null
        ],
        [
         "2025-01-18",
         "Raspberry Pi Web Client",
         null,
         23.27196716074399,
         72.35587581145059,
         null,
         null
        ],
        [
         "2025-01-18",
         "Raspberry Pi Web Client",
         null,
         21.102272770596585,
         62.618728247366576,
         null,
         null
        ],
        [
         "2025-01-18",
         "Raspberry Pi Web Client",
         null,
         23.766066836189236,
         70.46907469459288,
         null,
         null
        ],
        [
         "2025-01-18",
         "Raspberry Pi Web Client",
         null,
         20.78835295684076,
         61.5049320247973,
         null,
         null
        ],
        [
         "2025-01-18",
         "Raspberry Pi Web Client",
         null,
         30.250251593536323,
         64.29087177324402,
         null,
         null
        ],
        [
         "2025-01-18",
         "Raspberry Pi Web Client",
         null,
         30.306915265362903,
         61.690058405637075,
         null,
         null
        ],
        [
         "2025-01-18",
         "Raspberry Pi Web Client",
         null,
         30.10957463715547,
         78.91253713977633,
         null,
         null
        ],
        [
         "2025-01-18",
         "Raspberry Pi Web Client",
         null,
         22.801835649170986,
         60.12158847931617,
         null,
         null
        ],
        [
         "2025-01-18",
         "Raspberry Pi Web Client",
         null,
         25.681854637143122,
         67.59690796092212,
         null,
         null
        ],
        [
         "2025-01-18",
         "Raspberry Pi Web Client",
         null,
         30.808813477452322,
         60.309496285879035,
         null,
         null
        ],
        [
         "2025-01-18",
         "Raspberry Pi Web Client",
         null,
         28.07765015136895,
         76.48449042607083,
         null,
         null
        ],
        [
         "2025-01-18",
         "Raspberry Pi Web Client",
         null,
         30.563654031748115,
         61.993655396710224,
         null,
         null
        ],
        [
         "2025-01-18",
         "Raspberry Pi Web Client",
         null,
         23.732275239647993,
         71.17435909895492,
         null,
         null
        ],
        [
         "2025-01-18",
         "Raspberry Pi Web Client",
         null,
         24.61563370759413,
         62.74895547085296,
         null,
         null
        ],
        [
         "2025-01-18",
         "Raspberry Pi Web Client",
         null,
         22.238214781443038,
         76.05377054475777,
         null,
         null
        ],
        [
         "2025-01-18",
         "Raspberry Pi Web Client",
         null,
         24.5328688670663,
         79.34960419491321,
         null,
         null
        ],
        [
         "2025-01-18",
         "Raspberry Pi Web Client",
         null,
         27.211619360199585,
         64.50496580714714,
         null,
         null
        ],
        [
         "2025-01-18",
         "Raspberry Pi Web Client",
         null,
         30.39038424918817,
         64.52774533133248,
         null,
         null
        ],
        [
         "2025-01-18",
         "Raspberry Pi Web Client",
         null,
         29.26164032665526,
         61.92005389502514,
         null,
         null
        ],
        [
         "2025-01-18",
         "Raspberry Pi Web Client",
         null,
         30.92664761004757,
         79.4119135592056,
         null,
         null
        ],
        [
         "2025-01-18",
         "Raspberry Pi Web Client",
         null,
         21.25050009225718,
         62.44612227557239,
         null,
         null
        ],
        [
         "2025-01-18",
         "Raspberry Pi Web Client",
         null,
         20.009885050822533,
         70.64405346942492,
         null,
         null
        ],
        [
         "2025-01-18",
         "Raspberry Pi Web Client",
         null,
         24.842046702640104,
         75.02214358936575,
         null,
         null
        ],
        [
         "2025-01-18",
         "Raspberry Pi Web Client",
         null,
         31.77617833366846,
         63.72557103142015,
         null,
         null
        ],
        [
         "2025-01-18",
         "Raspberry Pi Web Client",
         null,
         24.397261344692176,
         76.8536031380022,
         null,
         null
        ],
        [
         "2025-01-18",
         "Raspberry Pi Web Client",
         null,
         27.772238980184934,
         68.3153710784568,
         null,
         null
        ],
        [
         "2025-01-18",
         "Raspberry Pi Web Client",
         null,
         21.872558748691855,
         72.86096990103343,
         null,
         null
        ],
        [
         "2025-01-18",
         "Raspberry Pi Web Client",
         null,
         21.301773850173674,
         79.57148967911209,
         null,
         null
        ],
        [
         "2025-01-18",
         "Raspberry Pi Web Client",
         null,
         25.987643438847996,
         60.27280772810225,
         null,
         null
        ],
        [
         "2025-01-18",
         "Raspberry Pi Web Client",
         null,
         28.401176093050854,
         63.33064696264599,
         null,
         null
        ],
        [
         "2025-01-18",
         "Raspberry Pi Web Client",
         null,
         24.819424123393908,
         67.97656038552553,
         null,
         null
        ],
        [
         "2025-01-18",
         "Raspberry Pi Web Client",
         null,
         25.147714082226692,
         60.69186352899055,
         null,
         null
        ],
        [
         "2025-01-18",
         "Raspberry Pi Web Client",
         null,
         30.78945679014658,
         63.279594997158284,
         null,
         null
        ],
        [
         "2025-01-18",
         "Raspberry Pi Web Client",
         null,
         21.063418736281815,
         66.82221871982094,
         null,
         null
        ],
        [
         "2025-01-18",
         "Raspberry Pi Web Client",
         null,
         25.939439286936487,
         71.42861659776713,
         null,
         null
        ],
        [
         "2025-01-18",
         "Raspberry Pi Web Client",
         null,
         22.71283717042265,
         76.28500673766845,
         null,
         null
        ],
        [
         "2025-01-18",
         "Raspberry Pi Web Client",
         null,
         21.508651152029415,
         79.512540681962,
         null,
         null
        ],
        [
         "2025-01-18",
         "Raspberry Pi Web Client",
         null,
         31.856390555094006,
         62.681361169933005,
         null,
         null
        ],
        [
         "2025-01-18",
         "Raspberry Pi Web Client",
         null,
         25.1453221240835,
         72.69574013295235,
         null,
         null
        ],
        [
         "2025-01-18",
         "Raspberry Pi Web Client",
         null,
         25.70538550417502,
         71.80808484516932,
         null,
         null
        ],
        [
         "2025-01-18",
         "Raspberry Pi Web Client",
         null,
         30.669540515513035,
         70.65898528571337,
         null,
         null
        ],
        [
         "2025-01-18",
         "Raspberry Pi Web Client",
         null,
         26.593004330252977,
         61.476022079704165,
         null,
         null
        ],
        [
         "2025-01-18",
         "Raspberry Pi Web Client",
         null,
         21.44618868206036,
         66.70748784015225,
         null,
         null
        ],
        [
         "2025-01-18",
         "Raspberry Pi Web Client",
         null,
         27.274429852767597,
         70.25569170109273,
         null,
         null
        ],
        [
         "2025-01-18",
         "Raspberry Pi Web Client",
         null,
         20.392294986860946,
         61.247192907885974,
         null,
         null
        ],
        [
         "2025-01-18",
         "Raspberry Pi Web Client",
         null,
         26.612331132258593,
         66.05889378123103,
         null,
         null
        ],
        [
         "2025-01-18",
         "Raspberry Pi Web Client",
         null,
         21.44337073270829,
         76.8683621261162,
         null,
         null
        ],
        [
         "2025-01-18",
         "Raspberry Pi Web Client",
         null,
         26.703975770208373,
         74.93360478016724,
         null,
         null
        ],
        [
         "2025-01-18",
         "Raspberry Pi Web Client",
         null,
         31.316451809717137,
         75.85391368046211,
         null,
         null
        ],
        [
         "2025-01-18",
         "Raspberry Pi Web Client",
         null,
         22.286640433712062,
         74.05690904730982,
         null,
         null
        ],
        [
         "2025-01-18",
         "Raspberry Pi Web Client",
         null,
         22.125552318190152,
         73.28813517583365,
         null,
         null
        ],
        [
         "2025-01-18",
         "Raspberry Pi Web Client",
         null,
         26.689796599390668,
         66.23963624257368,
         null,
         null
        ],
        [
         "2025-01-18",
         "Raspberry Pi Web Client",
         null,
         23.93539934804792,
         65.27511482984801,
         null,
         null
        ],
        [
         "2025-01-18",
         "Raspberry Pi Web Client",
         null,
         21.627178526657243,
         63.63287529763289,
         null,
         null
        ],
        [
         "2025-01-18",
         "Raspberry Pi Web Client",
         null,
         28.254133388743885,
         70.49412215511248,
         null,
         null
        ],
        [
         "2025-01-18",
         "Raspberry Pi Web Client",
         null,
         31.354577800959504,
         67.52021737761584,
         null,
         null
        ],
        [
         "2025-01-18",
         "Raspberry Pi Web Client",
         null,
         21.34084762972301,
         68.26713655504503,
         null,
         null
        ],
        [
         "2025-01-18",
         "Raspberry Pi Web Client",
         null,
         20.193192369662174,
         79.06161273916695,
         null,
         null
        ],
        [
         "2025-01-18",
         "Raspberry Pi Web Client",
         null,
         27.61590341142577,
         69.18017354891057,
         null,
         null
        ],
        [
         "2025-01-18",
         "Raspberry Pi Web Client",
         null,
         21.41043764368281,
         78.23439595175873,
         null,
         null
        ],
        [
         "2025-01-18",
         "Raspberry Pi Web Client",
         null,
         25.996433706279472,
         62.91408351433197,
         null,
         null
        ],
        [
         "2025-01-18",
         "Raspberry Pi Web Client",
         null,
         28.97984272701402,
         67.4564491328977,
         null,
         null
        ],
        [
         "2025-01-18",
         "Raspberry Pi Web Client",
         null,
         31.387473797460473,
         66.34074725264077,
         null,
         null
        ],
        [
         "2025-01-18",
         "Raspberry Pi Web Client",
         null,
         22.45178028522419,
         75.75207515104766,
         null,
         null
        ],
        [
         "2025-01-18",
         "Raspberry Pi Web Client",
         null,
         27.76739586089138,
         76.39641368079401,
         null,
         null
        ],
        [
         "2025-01-18",
         "Raspberry Pi Web Client",
         null,
         30.792192477976307,
         67.67708520573419,
         null,
         null
        ],
        [
         "2025-01-18",
         "Raspberry Pi Web Client",
         null,
         23.589349299160318,
         68.88152382178941,
         null,
         null
        ],
        [
         "2025-01-18",
         "Raspberry Pi Web Client",
         null,
         22.20839985748249,
         62.6757102374211,
         null,
         null
        ],
        [
         "2025-01-18",
         "Raspberry Pi Web Client",
         null,
         24.36247546250968,
         76.1270417011909,
         null,
         null
        ],
        [
         "2025-01-18",
         "Raspberry Pi Web Client",
         null,
         22.96372506844986,
         79.21484417970112,
         null,
         null
        ],
        [
         "2025-01-18",
         "Raspberry Pi Web Client",
         null,
         21.835671382926154,
         65.19425386898232,
         null,
         null
        ],
        [
         "2025-01-18",
         "Raspberry Pi Web Client",
         null,
         26.44911917499944,
         78.1840363678618,
         null,
         null
        ],
        [
         "2025-01-18",
         "Raspberry Pi Web Client",
         null,
         22.046032543953036,
         63.87959883178108,
         null,
         null
        ],
        [
         "2025-01-18",
         "Raspberry Pi Web Client",
         null,
         27.932291319504813,
         70.28742845165935,
         null,
         null
        ],
        [
         "2025-01-18",
         "Raspberry Pi Web Client",
         null,
         21.515254250750804,
         73.21312505796827,
         null,
         null
        ],
        [
         "2025-01-18",
         "Raspberry Pi Web Client",
         null,
         31.152214148513725,
         77.18901583089557,
         null,
         null
        ],
        [
         "2025-01-18",
         "Raspberry Pi Web Client",
         null,
         29.09422863099551,
         69.19692814258627,
         null,
         null
        ],
        [
         "2025-01-18",
         "Raspberry Pi Web Client",
         null,
         21.739285040734632,
         78.21545543688325,
         null,
         null
        ],
        [
         "2025-01-18",
         "Raspberry Pi Web Client",
         null,
         30.557457396061732,
         79.2646330427892,
         null,
         null
        ],
        [
         "2025-01-18",
         "Raspberry Pi Web Client",
         null,
         22.731352031091436,
         78.96063433417946,
         null,
         null
        ],
        [
         "2025-01-18",
         "Raspberry Pi Web Client",
         null,
         26.47468058037912,
         65.68650600301903,
         null,
         null
        ],
        [
         "2025-01-18",
         "Raspberry Pi Web Client",
         null,
         21.84279974823268,
         61.35720787496232,
         null,
         null
        ],
        [
         "2025-01-18",
         "Raspberry Pi Web Client",
         null,
         28.51100428234114,
         69.12455635285863,
         null,
         null
        ],
        [
         "2025-01-18",
         "Raspberry Pi Web Client",
         null,
         21.34536904303709,
         69.30554423051566,
         null,
         null
        ],
        [
         "2025-01-18",
         "Raspberry Pi Web Client",
         null,
         22.37260570341048,
         60.452382374309174,
         null,
         null
        ],
        [
         "2025-01-18",
         "Raspberry Pi Web Client",
         null,
         25.984937722430978,
         69.09847040877791,
         null,
         null
        ],
        [
         "2025-01-18",
         "Raspberry Pi Web Client",
         null,
         23.632152952792808,
         60.78283538403132,
         null,
         null
        ],
        [
         "2025-01-18",
         "Raspberry Pi Web Client",
         null,
         21.28844048224308,
         78.08527410899116,
         null,
         null
        ],
        [
         "2025-01-18",
         "Raspberry Pi Web Client",
         null,
         28.088394267786793,
         78.60938413964732,
         null,
         null
        ],
        [
         "2025-01-18",
         "Raspberry Pi Web Client",
         null,
         27.8114818705574,
         73.19587436635109,
         null,
         null
        ],
        [
         "2025-01-18",
         "Raspberry Pi Web Client",
         null,
         23.159595401462962,
         73.23399368766103,
         null,
         null
        ],
        [
         "2025-01-18",
         "Raspberry Pi Web Client",
         null,
         25.65534063889642,
         66.70542322456299,
         null,
         null
        ],
        [
         "2025-01-18",
         "Raspberry Pi Web Client",
         null,
         30.10945569610104,
         68.35193277587787,
         null,
         null
        ],
        [
         "2025-01-18",
         "Raspberry Pi Web Client",
         null,
         24.473478610443486,
         62.999032670165704,
         null,
         null
        ],
        [
         "2025-01-18",
         "Raspberry Pi Web Client",
         null,
         22.477224674715714,
         77.97505213897932,
         null,
         null
        ],
        [
         "2025-01-18",
         "Raspberry Pi Web Client",
         null,
         23.86118508757651,
         61.95620534397094,
         null,
         null
        ],
        [
         "2025-01-18",
         "Raspberry Pi Web Client",
         null,
         30.71922946551824,
         65.0564074300201,
         null,
         null
        ],
        [
         "2025-01-18",
         "Raspberry Pi Web Client",
         null,
         26.557371079144204,
         69.75618514718917,
         null,
         null
        ],
        [
         "2025-01-18",
         "Raspberry Pi Web Client",
         null,
         31.382286309285035,
         77.52224990640183,
         null,
         null
        ],
        [
         "2025-01-18",
         "Raspberry Pi Web Client",
         null,
         28.010001690756003,
         77.14898167490276,
         null,
         null
        ],
        [
         "2025-01-18",
         "Raspberry Pi Web Client",
         null,
         22.18456786753203,
         79.16295931683865,
         null,
         null
        ],
        [
         "2025-01-18",
         "Raspberry Pi Web Client",
         null,
         22.871576940465623,
         78.9900773771902,
         null,
         null
        ],
        [
         "2025-01-18",
         "Raspberry Pi Web Client",
         null,
         30.229377169383074,
         60.80186865623707,
         null,
         null
        ],
        [
         "2025-01-18",
         "Raspberry Pi Web Client",
         null,
         30.01313103343153,
         75.09266175146892,
         null,
         null
        ],
        [
         "2025-01-18",
         "Raspberry Pi Web Client",
         null,
         28.51872815533046,
         62.205868415183645,
         null,
         null
        ],
        [
         "2025-01-18",
         "Raspberry Pi Web Client",
         null,
         25.77377167145591,
         75.27799412695035,
         null,
         null
        ],
        [
         "2025-01-18",
         "Raspberry Pi Web Client",
         null,
         22.552610709909743,
         65.5769913179378,
         null,
         null
        ],
        [
         "2025-01-18",
         "Raspberry Pi Web Client",
         null,
         27.18382844433302,
         65.37775534760883,
         null,
         null
        ],
        [
         "2025-01-18",
         "Raspberry Pi Web Client",
         null,
         31.676566959862473,
         70.17756503527319,
         null,
         null
        ],
        [
         "2025-01-18",
         "Raspberry Pi Web Client",
         null,
         27.70954839278671,
         70.48429718139042,
         null,
         null
        ],
        [
         "2025-01-18",
         "Raspberry Pi Web Client",
         null,
         23.86157660343534,
         73.77287034450526,
         null,
         null
        ],
        [
         "2025-01-18",
         "Raspberry Pi Web Client",
         null,
         25.303238427298155,
         75.00305455107281,
         null,
         null
        ],
        [
         "2025-01-18",
         "Raspberry Pi Web Client",
         null,
         26.472191173339272,
         69.94971084080181,
         null,
         null
        ],
        [
         "2025-01-18",
         "Raspberry Pi Web Client",
         null,
         28.93722482419878,
         67.97676305153404,
         null,
         null
        ],
        [
         "2025-01-18",
         "Raspberry Pi Web Client",
         null,
         24.367809376834185,
         65.07257737628973,
         null,
         null
        ],
        [
         "2025-01-18",
         "Raspberry Pi Web Client",
         null,
         24.275332416680758,
         68.84987302398414,
         null,
         null
        ],
        [
         "2025-01-18",
         "Raspberry Pi Web Client",
         null,
         24.55326995027165,
         76.78195658510208,
         null,
         null
        ],
        [
         "2025-01-18",
         "Raspberry Pi Web Client",
         null,
         27.95345609411543,
         73.39075257329054,
         null,
         null
        ],
        [
         "2025-01-18",
         "Raspberry Pi Web Client",
         null,
         23.58897464965986,
         65.95483534286076,
         null,
         null
        ],
        [
         "2025-01-18",
         "Raspberry Pi Web Client",
         null,
         24.62570709055349,
         67.15333394434157,
         null,
         null
        ],
        [
         "2025-01-18",
         "Raspberry Pi Web Client",
         null,
         20.89015112926484,
         78.36639416405717,
         null,
         null
        ],
        [
         "2025-01-18",
         "Raspberry Pi Web Client",
         null,
         24.347972023958626,
         64.73280767387524,
         null,
         null
        ],
        [
         "2025-01-18",
         "Raspberry Pi Web Client",
         null,
         23.39410376020049,
         61.111901529473215,
         null,
         null
        ],
        [
         "2025-01-18",
         "Raspberry Pi Web Client",
         null,
         31.97787687860299,
         67.86397645967872,
         null,
         null
        ],
        [
         "2025-01-18",
         "Raspberry Pi Web Client",
         null,
         22.735867856645097,
         72.92221305935496,
         null,
         null
        ],
        [
         "2025-01-18",
         "Raspberry Pi Web Client",
         null,
         30.141291508643775,
         75.98981856150249,
         null,
         null
        ],
        [
         "2025-01-18",
         "Raspberry Pi Web Client",
         null,
         29.990497992049438,
         71.83273993588706,
         null,
         null
        ],
        [
         "2025-01-18",
         "Raspberry Pi Web Client",
         null,
         24.12153151343138,
         66.50643771302524,
         null,
         null
        ]
       ],
       "datasetInfos": [],
       "dbfsResultPath": null,
       "isJsonSchema": true,
       "metadata": {},
       "overflow": false,
       "plotOptions": {
        "customPlotOptions": {
         "__migrate__": [
          {
           "key": "status",
           "value": "complete"
          },
          {
           "key": "origDisplayType",
           "value": "plotlyLine"
          }
         ],
         "plotlyBar": [
          {
           "key": "grouped",
           "value": true
          },
          {
           "key": "stacked",
           "value": false
          },
          {
           "key": "100_stacked",
           "value": false
          }
         ]
        },
        "displayType": "table",
        "pivotAggregation": "sum",
        "pivotColumns": [
         "deviceId"
        ],
        "xColumns": [
         "timestamp"
        ],
        "yColumns": [
         "angle",
         "rpm"
        ]
       },
       "removedWidgets": [],
       "schema": [
        {
         "metadata": "{}",
         "name": "date",
         "type": "\"date\""
        },
        {
         "metadata": "{}",
         "name": "deviceid",
         "type": "\"string\""
        },
        {
         "metadata": "{}",
         "name": "timestamp",
         "type": "\"timestamp\""
        },
        {
         "metadata": "{}",
         "name": "temperature",
         "type": "\"double\""
        },
        {
         "metadata": "{}",
         "name": "humidity",
         "type": "\"double\""
        },
        {
         "metadata": "{}",
         "name": "windspeed",
         "type": "\"double\""
        },
        {
         "metadata": "{}",
         "name": "winddirection",
         "type": "\"string\""
        }
       ],
       "type": "table"
      }
     },
     "output_type": "display_data"
    }
   ],
   "source": [
    "\n",
    "\n",
    "# We can query the data directly from storage immediately as soon as it starts streams into Delta \n",
    "path = BRONZE_PATH + \"weather_raw\"\n",
    "DF_Display = spark.sql(f\"\"\"SELECT * FROM delta.`{path}`\"\"\")\n",
    "DF_Display.display()\n",
    "#  WHERE deviceid = 'WindTurbine-1'"
   ]
  },
  {
   "cell_type": "markdown",
   "metadata": {
    "application/vnd.databricks.v1+cell": {
     "cellMetadata": {},
     "inputWidgets": {},
     "nuid": "aa253ccb-e4b4-4a63-8dfc-87ca109c81bc",
     "showTitle": false,
     "tableResultSettingsMap": {},
     "title": ""
    }
   },
   "source": [
    "## Step 2 - Data Processing in Delta\n",
    "While our raw sensor data is being streamed into Bronze Delta tables on Azure Storage, we can create streaming pipelines on this data that flow it through Silver and Gold data sets.\n",
    "\n",
    "We will use the following schema for Silver and Gold data sets:\n",
    "\n",
    "<img src=\"https://sguptasa.blob.core.windows.net/random/iiot_blog/iot_delta_bronze_to_gold.png\" width=800>"
   ]
  },
  {
   "cell_type": "markdown",
   "metadata": {
    "application/vnd.databricks.v1+cell": {
     "cellMetadata": {},
     "inputWidgets": {},
     "nuid": "f159b3a5-1672-4ce8-9226-69020549e2fd",
     "showTitle": false,
     "tableResultSettingsMap": {},
     "title": ""
    }
   },
   "source": [
    "### 2a. Delta Bronze (Raw) to Delta Silver (Aggregated)\n",
    "The first step of our processing pipeline will clean and aggregate the measurements to 1 hour intervals. \n",
    "\n",
    "Since we are aggregating time-series values and there is a likelihood of late-arriving data and data changes, we will use the [**MERGE**](https://docs.microsoft.com/en-us/azure/databricks/spark/latest/spark-sql/language-manual/merge-into?toc=https%3A%2F%2Fdocs.microsoft.com%2Fen-us%2Fazure%2Fazure-databricks%2Ftoc.json&bc=https%3A%2F%2Fdocs.microsoft.com%2Fen-us%2Fazure%2Fbread%2Ftoc.json) functionality of Delta to upsert records into target tables. \n",
    "\n",
    "MERGE allows us to upsert source records into a target storage location. This is useful when dealing with time-series data as:\n",
    "1. Data often arrives late and requires aggregation states to be updated\n",
    "2. Historical data needs to be backfilled while streaming data is feeding into the table\n",
    "\n",
    "When streaming source data, `foreachBatch()` can be used to perform a merges on micro-batches of data."
   ]
  },
  {
   "cell_type": "code",
   "execution_count": 0,
   "metadata": {
    "application/vnd.databricks.v1+cell": {
     "cellMetadata": {
      "byteLimit": 2048000,
      "rowLimit": 10000
     },
     "inputWidgets": {},
     "nuid": "2a65e06b-865c-45e4-b347-dc073162ce00",
     "showTitle": false,
     "tableResultSettingsMap": {},
     "title": ""
    }
   },
   "outputs": [],
   "source": [
    "# Create functions to merge turbine and weather data into their target Delta tables\n",
    "def merge_delta(incremental, target): \n",
    "  incremental.dropDuplicates(['date','window','deviceid']).createOrReplaceTempView(\"incremental\")\n",
    "  \n",
    "  try:\n",
    "    # MERGE records into the target table using the specified join key\n",
    "    incremental._jdf.sparkSession().sql(f\"\"\"\n",
    "      MERGE INTO delta.`{target}` t\n",
    "      USING incremental i\n",
    "      ON i.date=t.date AND i.window = t.window AND i.deviceId = t.deviceid\n",
    "      WHEN MATCHED THEN UPDATE SET *\n",
    "      WHEN NOT MATCHED THEN INSERT *\n",
    "    \"\"\")\n",
    "  except:\n",
    "    # If the †arget table does not exist, create one\n",
    "    incremental.write.format(\"delta\").partitionBy(\"date\").mode(\"overwrite\").option(\"overwriteSchema\",\"true\").save(target)\n",
    "    \n",
    "turbine_b_to_s = (\n",
    "  spark.readStream.format('delta').table(\"turbine_raw\")                        # Read data as a stream from our source Delta table\n",
    "    .groupBy('deviceId','date',F.window('timestamp','5 minutes'))              # Aggregate readings to hourly intervals\n",
    "    .agg(F.avg('rpm').alias('rpm'), F.avg(\"angle\").alias(\"angle\"))\n",
    "    .writeStream \n",
    "    .option(\"overwriteSchema\",\"true\")                                                              # Write the resulting stream\n",
    "    .foreachBatch(lambda i, b: merge_delta(i, SILVER_PATH + \"turbine_agg\"))    # Pass each micro-batch to a function\n",
    "    .outputMode(\"update\")                                                      # Merge works with update mode\n",
    "    .option(\"checkpointLocation\", CHECKPOINT_PATH + \"turbine_agg\")             # Checkpoint so we can restart streams gracefully\n",
    "    .start()\n",
    ")\n",
    "\n",
    "weather_b_to_s = (\n",
    "  spark.readStream.format('delta').table(\"weather_raw\")                        # Read data as a stream from our source Delta table\n",
    "    .groupBy('deviceid','date',F.window('timestamp','5 minutes'))              # Aggregate readings to hourly intervals\n",
    "    .agg({\"temperature\":\"avg\",\"humidity\":\"avg\",\"windspeed\":\"avg\",\"winddirection\":\"last\"})\n",
    "    .selectExpr('date','window','deviceid','`avg(temperature)` as temperature','`avg(humidity)` as humidity',\n",
    "                '`avg(windspeed)` as windspeed','`last(winddirection)` as winddirection')\n",
    "    .writeStream  \n",
    "    .option(\"overwriteSchema\",\"true\")                                                               # Write the resulting stream\n",
    "    .foreachBatch(lambda i, b: merge_delta(i, SILVER_PATH + \"weather_agg\"))    # Pass each micro-batch to a function\n",
    "    .outputMode(\"update\")                                                      # Merge works with update mode\n",
    "    .option(\"checkpointLocation\", CHECKPOINT_PATH + \"weather_agg\")             # Checkpoint so we can restart streams gracefully\n",
    "    .start()\n",
    ")\n",
    "\n",
    "# Create the external tables once data starts to stream in\n",
    "while True:\n",
    "  try:\n",
    "    spark.sql(f'CREATE TABLE IF NOT EXISTS turbine_agg USING DELTA LOCATION \"{SILVER_PATH + \"turbine_agg\"}\"')\n",
    "    spark.sql(f'CREATE TABLE IF NOT EXISTS weather_agg USING DELTA LOCATION \"{SILVER_PATH + \"weather_agg\"}\"')\n",
    "    break\n",
    "  except:\n",
    "    pass"
   ]
  },
  {
   "cell_type": "code",
   "execution_count": 0,
   "metadata": {
    "application/vnd.databricks.v1+cell": {
     "cellMetadata": {
      "byteLimit": 2048000,
      "implicitDf": true,
      "rowLimit": 10000
     },
     "inputWidgets": {},
     "nuid": "5f00423c-d48e-45d3-894c-1be2aa272945",
     "showTitle": false,
     "tableResultSettingsMap": {},
     "title": ""
    }
   },
   "outputs": [],
   "source": [
    "%sql\n",
    "-- As data gets merged in real-time to our hourly table, we can query it immediately\n",
    "SELECT * FROM weather_agg \n",
    "-- SELECT * FROM turbine_agg t JOIN weather_agg w ON (t.date=w.date AND t.window=w.window) WHERE t.deviceid='WindTurbine-1' ORDER BY t.window DESC"
   ]
  },
  {
   "cell_type": "markdown",
   "metadata": {
    "application/vnd.databricks.v1+cell": {
     "cellMetadata": {},
     "inputWidgets": {},
     "nuid": "122c8aba-9fb2-46dc-b6f7-d91ba70aac60",
     "showTitle": false,
     "tableResultSettingsMap": {},
     "title": ""
    }
   },
   "source": [
    "### 2b. Delta Silver (Aggregated) to Delta Gold (Enriched)\n",
    "Next we perform a streaming join of weather and turbine readings to create one enriched dataset we can use for data science and model training."
   ]
  },
  {
   "cell_type": "code",
   "execution_count": 0,
   "metadata": {
    "application/vnd.databricks.v1+cell": {
     "cellMetadata": {
      "byteLimit": 2048000,
      "rowLimit": 10000
     },
     "inputWidgets": {},
     "nuid": "b9bd8532-f6da-4493-8bcc-acbe3e162e61",
     "showTitle": false,
     "tableResultSettingsMap": {},
     "title": ""
    }
   },
   "outputs": [],
   "source": [
    "# Read streams from Delta Silver tables and join them together on common columns (date & window)\n",
    "turbine_agg = spark.readStream.format('delta').option(\"ignoreChanges\", True).table('turbine_agg')\n",
    "weather_agg = spark.readStream.format('delta').option(\"ignoreChanges\", True).table('weather_agg').drop('deviceid')\n",
    "turbine_enriched = turbine_agg.join(weather_agg, ['date','window'])\n",
    "\n",
    "# Write the stream to a foreachBatch function which performs the MERGE as before\n",
    "merge_gold_stream = (\n",
    "  turbine_enriched\n",
    "    .selectExpr('date','deviceid','window.start as window','rpm','angle','temperature','humidity','windspeed','winddirection')\n",
    "    .writeStream \n",
    "    .foreachBatch(lambda i, b: merge_delta(i, GOLD_PATH + \"turbine_enriched\"))\n",
    "    .option(\"checkpointLocation\", CHECKPOINT_PATH + \"turbine_enriched\")         \n",
    "    .start()\n",
    ")\n",
    "\n",
    "# Create the external tables once data starts to stream in\n",
    "while True:\n",
    "  try:\n",
    "    spark.sql(f'CREATE TABLE IF NOT EXISTS turbine_enriched USING DELTA LOCATION \"{GOLD_PATH + \"turbine_enriched\"}\"')\n",
    "    break\n",
    "  except:\n",
    "    pass"
   ]
  },
  {
   "cell_type": "code",
   "execution_count": 0,
   "metadata": {
    "application/vnd.databricks.v1+cell": {
     "cellMetadata": {
      "byteLimit": 2048000,
      "implicitDf": true,
      "rowLimit": 10000
     },
     "inputWidgets": {},
     "nuid": "1f7282f0-a59e-4b41-9c08-4fbb9ea620e6",
     "showTitle": false,
     "tableResultSettingsMap": {},
     "title": ""
    }
   },
   "outputs": [],
   "source": [
    "%sql SELECT * FROM turbine_enriched WHERE deviceid='WindTurbine-1'"
   ]
  },
  {
   "cell_type": "markdown",
   "metadata": {
    "application/vnd.databricks.v1+cell": {
     "cellMetadata": {},
     "inputWidgets": {},
     "nuid": "c3788d49-36ef-4631-8d7e-42f645eb4703",
     "showTitle": false,
     "tableResultSettingsMap": {},
     "title": ""
    }
   },
   "source": [
    "### 2c: Stream Delta GOLD Table to Synapse\n",
    "Synapse Analytics provides on-demand SQL directly on Data Lake source formats. Databricks can also directly stream data to Synapse SQL Pools for Data Warehousing workloads like BI dashboarding and reporting. \n",
    "\n",
    "<img src=\"https://sguptasa.blob.core.windows.net/random/iiot_blog/synapse_databricks_delta.png\" width=800>"
   ]
  },
  {
   "cell_type": "code",
   "execution_count": 0,
   "metadata": {
    "application/vnd.databricks.v1+cell": {
     "cellMetadata": {
      "byteLimit": 2048000,
      "rowLimit": 10000
     },
     "inputWidgets": {},
     "nuid": "efcfa7ee-cc8b-4c9c-9a3b-12ceef3f6525",
     "showTitle": false,
     "tableResultSettingsMap": {},
     "title": ""
    }
   },
   "outputs": [],
   "source": [
    "spark.conf.set(\"spark.databricks.sqldw.writeSemantics\", \"copy\")                           # Use COPY INTO for faster loads to Synapse from Databricks\n",
    "\n",
    "\n",
    "write_to_synapse = (\n",
    "  spark.read.format('delta').option('ignoreChanges',True).load(GOLD_PATH + \"turbine_enriched\")\n",
    "  # table('turbine_enriched') # Read in Gold turbine readings from Delta as a stream\n",
    "    .write.format(\"com.databricks.spark.sqldw\")                                     # Write to Synapse (SQL DW connector)\n",
    "    .option(\"url\",\"jdbc:{Connection String}\")                                # SQL Pool JDBC connection (with SQL Auth) string\n",
    "    .option(\"tempDir\", SYNAPSE_PATH)                                                    # Temporary ADLS path to stage the data (with forwarded permissions)\n",
    "    .option(\"forwardSparkAzureStorageCredentials\", \"true\")\n",
    "    .option(\"dbTable\", \"golddb.turbine_enriched\") \n",
    "    .mode(\"overwrite\")                                               # Table in Synapse to write to\n",
    "    .option(\"checkpointLocation\", CHECKPOINT_PATH+\"synapse\")                              # Checkpoint for resilient streaming\n",
    "    .save()\n",
    ")"
   ]
  },
  {
   "cell_type": "markdown",
   "metadata": {
    "application/vnd.databricks.v1+cell": {
     "cellMetadata": {},
     "inputWidgets": {},
     "nuid": "7f0168b4-e517-44a6-bf4d-236481f3b8df",
     "showTitle": false,
     "tableResultSettingsMap": {},
     "title": ""
    }
   },
   "source": [
    "### 2d. Backfill Historical Data\n",
    "In order to train a model, we will need to backfill our streaming data with historical data. The cell below generates 1 year of historical hourly turbine and weather data and inserts it into our Gold Delta table."
   ]
  },
  {
   "cell_type": "code",
   "execution_count": 0,
   "metadata": {
    "application/vnd.databricks.v1+cell": {
     "cellMetadata": {},
     "inputWidgets": {},
     "nuid": "0e779bc7-f039-4271-9171-454d4843dd39",
     "showTitle": false,
     "tableResultSettingsMap": {},
     "title": ""
    }
   },
   "outputs": [],
   "source": [
    "import pandas as pd\n",
    "import numpy as np\n",
    "\n",
    "# Function to simulate generating time-series data given a baseline, slope, and some seasonality\n",
    "def generate_series(time_index, baseline, slope=0.01, period=365*24*12):\n",
    "  rnd = np.random.RandomState(time_index)\n",
    "  season_time = (time_index % period) / period\n",
    "  seasonal_pattern = np.where(season_time < 0.4, np.cos(season_time * 2 * np.pi), 1 / np.exp(3 * season_time))\n",
    "  return baseline * (1 + 0.1 * seasonal_pattern + 0.1 * rnd.randn(len(time_index)))\n",
    "  \n",
    "# Get start and end dates for our historical data\n",
    "dates = spark.sql('select max(date)-interval 365 days as start, max(date) as end from turbine_enriched').toPandas()\n",
    "  \n",
    "# Get the baseline readings for each sensor for backfilling data\n",
    "turbine_enriched_pd = spark.table('turbine_enriched').toPandas()\n",
    "baselines = turbine_enriched_pd.min()[3:8]\n",
    "devices = turbine_enriched_pd['deviceid'].unique()\n",
    "\n",
    "# Iterate through each device to generate historical data for that device\n",
    "print(\"---Generating Historical Enriched Turbine Readings---\")\n",
    "for deviceid in devices:\n",
    "  print(f'Backfilling device {deviceid}')\n",
    "  windows = pd.date_range(start=dates['start'][0], end=dates['end'][0], freq='5T') # Generate a list of hourly timestamps from start to end date\n",
    "  historical_values = pd.DataFrame({\n",
    "    'date': windows.date,\n",
    "    'window': windows, \n",
    "    'winddirection': np.random.choice(['N','NW','W','SW','S','SE','E','NE'], size=len(windows)),\n",
    "    'deviceId': deviceid\n",
    "  })\n",
    "  time_index = historical_values.index.to_numpy()                                 # Generate a time index\n",
    "\n",
    "  for sensor in baselines.keys():\n",
    "    historical_values[sensor] = generate_series(time_index, baselines[sensor])    # Generate time-series data from this sensor\n",
    "\n",
    "  # Write dataframe to enriched_readings Delta table\n",
    "  spark.createDataFrame(historical_values).write.format(\"delta\").mode(\"append\").saveAsTable(\"turbine_enriched\")\n",
    "  \n",
    "# Create power readings based on weather and operating conditions\n",
    "print(\"---Generating Historical Turbine Power Readings---\")\n",
    "spark.sql(f'CREATE TABLE turbine_power USING DELTA PARTITIONED BY (date) LOCATION \"{GOLD_PATH + \"turbine_power\"}\" AS SELECT date, window, deviceId, 0.1 * (temperature/humidity) * (3.1416 * 25) * windspeed * rpm AS power FROM turbine_enriched')\n",
    "\n",
    "# Create a maintenance records based on peak power usage\n",
    "print(\"---Generating Historical Turbine Maintenance Records---\")\n",
    "spark.sql(f'CREATE TABLE turbine_maintenance USING DELTA LOCATION \"{GOLD_PATH + \"turbine_maintenance\"}\" AS SELECT DISTINCT deviceid, FIRST(date) OVER (PARTITION BY deviceid, year(date), month(date) ORDER BY power) AS date, True AS maintenance FROM turbine_power')"
   ]
  },
  {
   "cell_type": "code",
   "execution_count": 0,
   "metadata": {
    "application/vnd.databricks.v1+cell": {
     "cellMetadata": {},
     "inputWidgets": {},
     "nuid": "0e0a2ba4-3195-45c4-8da1-d676abb192c6",
     "showTitle": false,
     "tableResultSettingsMap": {},
     "title": ""
    }
   },
   "outputs": [],
   "source": [
    "%sql\n",
    "-- Optimize all 3 tables for querying and model training performance\n",
    "OPTIMIZE turbine_enriched WHERE date<current_date() ZORDER BY deviceid, window;\n",
    "OPTIMIZE turbine_power ZORDER BY deviceid, window;\n",
    "OPTIMIZE turbine_maintenance ZORDER BY deviceid;"
   ]
  },
  {
   "cell_type": "markdown",
   "metadata": {
    "application/vnd.databricks.v1+cell": {
     "cellMetadata": {},
     "inputWidgets": {},
     "nuid": "93149c04-ad28-457e-8d3a-3557d8ca2b69",
     "showTitle": false,
     "tableResultSettingsMap": {},
     "title": ""
    }
   },
   "source": [
    "Our Delta Gold tables are now ready for predictive analytics! We now have hourly weather, turbine operating and power measurements, and daily maintenance logs going back one year. We can see that there is significant correlation between most of the variables."
   ]
  },
  {
   "cell_type": "code",
   "execution_count": 0,
   "metadata": {
    "application/vnd.databricks.v1+cell": {
     "cellMetadata": {},
     "inputWidgets": {},
     "nuid": "77421440-0e41-44b1-a897-3e1fa914296f",
     "showTitle": false,
     "tableResultSettingsMap": {},
     "title": ""
    }
   },
   "outputs": [],
   "source": [
    "%sql\n",
    "-- Query all 3 tables\n",
    "CREATE OR REPLACE VIEW gold_readings AS\n",
    "SELECT r.*, \n",
    "  p.power, \n",
    "  ifnull(m.maintenance,False) as maintenance\n",
    "FROM turbine_enriched r \n",
    "  JOIN turbine_power p ON (r.date=p.date AND r.window=p.window AND r.deviceid=p.deviceid)\n",
    "  LEFT JOIN turbine_maintenance m ON (r.date=m.date AND r.deviceid=m.deviceid);\n",
    "  \n",
    "SELECT * FROM gold_readings ORDER BY deviceid, window"
   ]
  },
  {
   "cell_type": "markdown",
   "metadata": {
    "application/vnd.databricks.v1+cell": {
     "cellMetadata": {},
     "inputWidgets": {},
     "nuid": "4625da60-0b4d-4998-bfaa-f7b9ff414ab0",
     "showTitle": false,
     "tableResultSettingsMap": {},
     "title": ""
    }
   },
   "source": [
    "#### Benefits of Delta Lake on Time-Series Data\n",
    "A key component of this architecture is the Azure Data Lake Store (ADLS), which enables the write-once, access-often analytics pattern in Azure. However, Data Lakes alone do not solve challenges that come with time-series streaming data. The Delta storage format provides a layer of resiliency and performance on all data sources stored in ADLS. Specifically for time-series data, Delta provides the following advantages over other storage formats on ADLS:\n",
    "\n",
    "|**Required Capability**|**Other formats on ADLS**|**Delta Format on ADLS**|\n",
    "|--------------------|-----------------------------|---------------------------|\n",
    "|**Unified batch & streaming**|Data Lakes are often used in conjunction with a streaming store like CosmosDB, resulting in a complex architecture|ACID-compliant transactions enable data engineers to perform streaming ingest and historically batch loads into the same locations on ADLS|\n",
    "|**Schema enforcement and evolution**|Data Lakes do not enforce schema, requiring all data to be pushed into a relational database for reliability|Schema is enforced by default. As new IoT devices are added to the data stream, schemas can be evolved safely so downstream applications don’t fail|\n",
    "|**Efficient Upserts**|Data Lakes do not support in-line updates and merges, requiring deletion and insertions of entire partitions to perform updates|MERGE commands are effective for situations handling delayed IoT readings, modified dimension tables used for real-time enrichment, or if data needs to be reprocessed|\n",
    "|**File Compaction**|Streaming time-series data into Data Lakes generate hundreds or even thousands of tiny files|Auto-compaction in Delta optimizes the file sizes to increase throughput and parallelism|\n",
    "|**Multi-dimensional clustering**|Data Lakes provide push-down filtering on partitions only|ZORDERing time-series on fields like timestamp or sensor ID allows Databricks to filter and join on those columns up to 100x faster than simple partitioning techniques|\n"
   ]
  }
 ],
 "metadata": {
  "application/vnd.databricks.v1+notebook": {
   "computePreferences": null,
   "dashboards": [],
   "environmentMetadata": null,
   "language": "python",
   "notebookMetadata": {
    "mostRecentlyExecutedCommandWithImplicitDF": {
     "commandId": 4076798997090031,
     "dataframes": [
      "_sqldf"
     ]
    },
    "pythonIndentUnit": 2
   },
   "notebookName": "Streaming_Data_Engineering_Project",
   "widgets": {
    "Event Hub Name": {
     "currentValue": "StreamingIotHub",
     "nuid": "f9a66160-64c0-49c0-8d16-f46f6a4db58c",
     "typedWidgetInfo": null,
     "widgetInfo": {
      "widgetType": "text",
      "defaultValue": "<your IoT Hub's Event Hub Compatible Name>",
      "label": "Event Hub Name",
      "name": "Event Hub Name",
      "options": {
       "widgetType": "text",
       "autoCreated": null,
       "validationRegex": null
      }
     }
    },
    "Storage Account": {
     "currentValue": "azuredlssup07",
     "nuid": "86177aec-79c4-4e57-9312-a95726acd426",
     "typedWidgetInfo": null,
     "widgetInfo": {
      "widgetType": "text",
      "defaultValue": "<your ADLS Gen 2 account name>",
      "label": "Storage Account",
      "name": "Storage Account",
      "options": {
       "widgetType": "text",
       "autoCreated": null,
       "validationRegex": null
      }
     }
    }
   }
  },
  "name": "IIoT End-to-End",
  "notebookId": 1335585283234210
 },
 "nbformat": 4,
 "nbformat_minor": 0
}
